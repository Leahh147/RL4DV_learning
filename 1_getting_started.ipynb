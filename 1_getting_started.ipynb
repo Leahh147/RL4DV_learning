{
  "cells": [
    {
      "cell_type": "markdown",
      "metadata": {
        "id": "view-in-github",
        "colab_type": "text"
      },
      "source": [
        "<a href=\"https://colab.research.google.com/github/Leahh147/RL4DV/blob/main/1_getting_started.ipynb\" target=\"_parent\"><img src=\"https://colab.research.google.com/assets/colab-badge.svg\" alt=\"Open In Colab\"/></a>"
      ]
    },
    {
      "cell_type": "markdown",
      "metadata": {
        "id": "hyyN-2qyK_T2"
      },
      "source": [
        "# Stable Baselines3 Tutorial - Getting Started\n",
        "\n",
        "Github repo: https://github.com/araffin/rl-tutorial-jnrr19/tree/sb3/\n",
        "\n",
        "Stable-Baselines3: https://github.com/DLR-RM/stable-baselines3\n",
        "\n",
        "Documentation: https://stable-baselines3.readthedocs.io/en/master/\n",
        "\n",
        "SB3-Contrib: https://github.com/Stable-Baselines-Team/stable-baselines3-contrib\n",
        "\n",
        "RL Baselines3 zoo: https://github.com/DLR-RM/rl-baselines3-zoo\n",
        "\n",
        "[RL Baselines3 Zoo](https://github.com/DLR-RM/rl-baselines3-zoo) is a training framework for Reinforcement Learning (RL), using Stable Baselines3.\n",
        "\n",
        "It provides scripts for training, evaluating agents, tuning hyperparameters, plotting results and recording videos.\n",
        "\n",
        "\n",
        "## Introduction\n",
        "\n",
        "In this notebook, you will learn the basics for using stable baselines library: how to create a RL model, train it and evaluate it. Because all algorithms share the same interface, we will see how simple it is to switch from one algorithm to another.\n",
        "\n",
        "\n",
        "## Install Dependencies and Stable Baselines3 Using Pip\n",
        "\n",
        "List of full dependencies can be found in the [README](https://github.com/DLR-RM/stable-baselines3).\n",
        "\n",
        "\n",
        "```\n",
        "pip install stable-baselines3[extra]\n",
        "```"
      ]
    },
    {
      "cell_type": "code",
      "execution_count": null,
      "metadata": {
        "id": "R_IsaLQ0K5Aq"
      },
      "outputs": [],
      "source": [
        "# for autoformatting\n",
        "# %load_ext jupyter_black"
      ]
    },
    {
      "cell_type": "code",
      "execution_count": 1,
      "metadata": {
        "colab": {
          "base_uri": "https://localhost:8080/"
        },
        "id": "gWskDE2c9WoN",
        "outputId": "7a47544d-88a2-49dc-f37d-9ab500bde3b5"
      },
      "outputs": [
        {
          "output_type": "stream",
          "name": "stdout",
          "text": [
            "Reading package lists... Done\n",
            "Building dependency tree       \n",
            "Reading state information... Done\n",
            "ffmpeg is already the newest version (7:4.2.7-0ubuntu0.1).\n",
            "The following additional packages will be installed:\n",
            "  freeglut3 libfontenc1 libxfont2 libxkbfile1 x11-xkb-utils xfonts-base\n",
            "  xfonts-encodings xfonts-utils xserver-common\n",
            "The following NEW packages will be installed:\n",
            "  freeglut3 freeglut3-dev libfontenc1 libxfont2 libxkbfile1 x11-xkb-utils\n",
            "  xfonts-base xfonts-encodings xfonts-utils xserver-common xvfb\n",
            "0 upgraded, 11 newly installed, 0 to remove and 15 not upgraded.\n",
            "Need to get 7,895 kB of archives.\n",
            "After this operation, 13.0 MB of additional disk space will be used.\n",
            "Get:1 http://archive.ubuntu.com/ubuntu focal/universe amd64 freeglut3 amd64 2.8.1-3 [73.6 kB]\n",
            "Get:2 http://archive.ubuntu.com/ubuntu focal/universe amd64 freeglut3-dev amd64 2.8.1-3 [124 kB]\n",
            "Get:3 http://archive.ubuntu.com/ubuntu focal/main amd64 libfontenc1 amd64 1:1.1.4-0ubuntu1 [14.0 kB]\n",
            "Get:4 http://archive.ubuntu.com/ubuntu focal/main amd64 libxfont2 amd64 1:2.0.3-1 [91.7 kB]\n",
            "Get:5 http://archive.ubuntu.com/ubuntu focal/main amd64 libxkbfile1 amd64 1:1.1.0-1 [65.3 kB]\n",
            "Get:6 http://archive.ubuntu.com/ubuntu focal/main amd64 x11-xkb-utils amd64 7.7+5 [158 kB]\n",
            "Get:7 http://archive.ubuntu.com/ubuntu focal/main amd64 xfonts-encodings all 1:1.0.5-0ubuntu1 [573 kB]\n",
            "Get:8 http://archive.ubuntu.com/ubuntu focal/main amd64 xfonts-utils amd64 1:7.7+6 [91.5 kB]\n",
            "Get:9 http://archive.ubuntu.com/ubuntu focal/main amd64 xfonts-base all 1:1.0.5 [5,896 kB]\n",
            "Get:10 http://archive.ubuntu.com/ubuntu focal-updates/main amd64 xserver-common all 2:1.20.13-1ubuntu1~20.04.8 [27.2 kB]\n",
            "Get:11 http://archive.ubuntu.com/ubuntu focal-updates/universe amd64 xvfb amd64 2:1.20.13-1ubuntu1~20.04.8 [780 kB]\n",
            "Fetched 7,895 kB in 0s (38.5 MB/s)\n",
            "Selecting previously unselected package freeglut3:amd64.\n",
            "(Reading database ... 123105 files and directories currently installed.)\n",
            "Preparing to unpack .../00-freeglut3_2.8.1-3_amd64.deb ...\n",
            "Unpacking freeglut3:amd64 (2.8.1-3) ...\n",
            "Selecting previously unselected package freeglut3-dev:amd64.\n",
            "Preparing to unpack .../01-freeglut3-dev_2.8.1-3_amd64.deb ...\n",
            "Unpacking freeglut3-dev:amd64 (2.8.1-3) ...\n",
            "Selecting previously unselected package libfontenc1:amd64.\n",
            "Preparing to unpack .../02-libfontenc1_1%3a1.1.4-0ubuntu1_amd64.deb ...\n",
            "Unpacking libfontenc1:amd64 (1:1.1.4-0ubuntu1) ...\n",
            "Selecting previously unselected package libxfont2:amd64.\n",
            "Preparing to unpack .../03-libxfont2_1%3a2.0.3-1_amd64.deb ...\n",
            "Unpacking libxfont2:amd64 (1:2.0.3-1) ...\n",
            "Selecting previously unselected package libxkbfile1:amd64.\n",
            "Preparing to unpack .../04-libxkbfile1_1%3a1.1.0-1_amd64.deb ...\n",
            "Unpacking libxkbfile1:amd64 (1:1.1.0-1) ...\n",
            "Selecting previously unselected package x11-xkb-utils.\n",
            "Preparing to unpack .../05-x11-xkb-utils_7.7+5_amd64.deb ...\n",
            "Unpacking x11-xkb-utils (7.7+5) ...\n",
            "Selecting previously unselected package xfonts-encodings.\n",
            "Preparing to unpack .../06-xfonts-encodings_1%3a1.0.5-0ubuntu1_all.deb ...\n",
            "Unpacking xfonts-encodings (1:1.0.5-0ubuntu1) ...\n",
            "Selecting previously unselected package xfonts-utils.\n",
            "Preparing to unpack .../07-xfonts-utils_1%3a7.7+6_amd64.deb ...\n",
            "Unpacking xfonts-utils (1:7.7+6) ...\n",
            "Selecting previously unselected package xfonts-base.\n",
            "Preparing to unpack .../08-xfonts-base_1%3a1.0.5_all.deb ...\n",
            "Unpacking xfonts-base (1:1.0.5) ...\n",
            "Selecting previously unselected package xserver-common.\n",
            "Preparing to unpack .../09-xserver-common_2%3a1.20.13-1ubuntu1~20.04.8_all.deb ...\n",
            "Unpacking xserver-common (2:1.20.13-1ubuntu1~20.04.8) ...\n",
            "Selecting previously unselected package xvfb.\n",
            "Preparing to unpack .../10-xvfb_2%3a1.20.13-1ubuntu1~20.04.8_amd64.deb ...\n",
            "Unpacking xvfb (2:1.20.13-1ubuntu1~20.04.8) ...\n",
            "Setting up freeglut3:amd64 (2.8.1-3) ...\n",
            "Setting up freeglut3-dev:amd64 (2.8.1-3) ...\n",
            "Setting up libfontenc1:amd64 (1:1.1.4-0ubuntu1) ...\n",
            "Setting up xfonts-encodings (1:1.0.5-0ubuntu1) ...\n",
            "Setting up libxkbfile1:amd64 (1:1.1.0-1) ...\n",
            "Setting up libxfont2:amd64 (1:2.0.3-1) ...\n",
            "Setting up x11-xkb-utils (7.7+5) ...\n",
            "Setting up xfonts-utils (1:7.7+6) ...\n",
            "Setting up xfonts-base (1:1.0.5) ...\n",
            "Setting up xserver-common (2:1.20.13-1ubuntu1~20.04.8) ...\n",
            "Setting up xvfb (2:1.20.13-1ubuntu1~20.04.8) ...\n",
            "Processing triggers for man-db (2.9.1-1) ...\n",
            "Processing triggers for fontconfig (2.13.1-2ubuntu3) ...\n",
            "Processing triggers for libc-bin (2.31-0ubuntu9.9) ...\n",
            "Collecting stable-baselines3[extra]>=2.0.0a4\n",
            "  Downloading stable_baselines3-2.0.0-py3-none-any.whl (178 kB)\n",
            "\u001b[2K     \u001b[90m━━━━━━━━━━━━━━━━━━━━━━━━━━━━━━━━━━━━━━━\u001b[0m \u001b[32m178.4/178.4 kB\u001b[0m \u001b[31m7.0 MB/s\u001b[0m eta \u001b[36m0:00:00\u001b[0m\n",
            "\u001b[?25hCollecting gymnasium==0.28.1 (from stable-baselines3[extra]>=2.0.0a4)\n",
            "  Downloading gymnasium-0.28.1-py3-none-any.whl (925 kB)\n",
            "\u001b[2K     \u001b[90m━━━━━━━━━━━━━━━━━━━━━━━━━━━━━━━━━━━━━━\u001b[0m \u001b[32m925.5/925.5 kB\u001b[0m \u001b[31m52.4 MB/s\u001b[0m eta \u001b[36m0:00:00\u001b[0m\n",
            "\u001b[?25hRequirement already satisfied: numpy>=1.20 in /usr/local/lib/python3.10/dist-packages (from stable-baselines3[extra]>=2.0.0a4) (1.22.4)\n",
            "Requirement already satisfied: torch>=1.11 in /usr/local/lib/python3.10/dist-packages (from stable-baselines3[extra]>=2.0.0a4) (2.0.1+cu118)\n",
            "Requirement already satisfied: cloudpickle in /usr/local/lib/python3.10/dist-packages (from stable-baselines3[extra]>=2.0.0a4) (2.2.1)\n",
            "Requirement already satisfied: pandas in /usr/local/lib/python3.10/dist-packages (from stable-baselines3[extra]>=2.0.0a4) (1.5.3)\n",
            "Requirement already satisfied: matplotlib in /usr/local/lib/python3.10/dist-packages (from stable-baselines3[extra]>=2.0.0a4) (3.7.1)\n",
            "Requirement already satisfied: opencv-python in /usr/local/lib/python3.10/dist-packages (from stable-baselines3[extra]>=2.0.0a4) (4.7.0.72)\n",
            "Requirement already satisfied: tensorboard>=2.9.1 in /usr/local/lib/python3.10/dist-packages (from stable-baselines3[extra]>=2.0.0a4) (2.12.3)\n",
            "Requirement already satisfied: psutil in /usr/local/lib/python3.10/dist-packages (from stable-baselines3[extra]>=2.0.0a4) (5.9.5)\n",
            "Requirement already satisfied: tqdm in /usr/local/lib/python3.10/dist-packages (from stable-baselines3[extra]>=2.0.0a4) (4.65.0)\n",
            "Requirement already satisfied: rich in /usr/local/lib/python3.10/dist-packages (from stable-baselines3[extra]>=2.0.0a4) (13.4.2)\n",
            "Collecting shimmy[atari]~=0.2.1 (from stable-baselines3[extra]>=2.0.0a4)\n",
            "  Downloading Shimmy-0.2.1-py3-none-any.whl (25 kB)\n",
            "Requirement already satisfied: pillow in /usr/local/lib/python3.10/dist-packages (from stable-baselines3[extra]>=2.0.0a4) (8.4.0)\n",
            "Collecting autorom[accept-rom-license]~=0.6.0 (from stable-baselines3[extra]>=2.0.0a4)\n",
            "  Downloading AutoROM-0.6.1-py3-none-any.whl (9.4 kB)\n",
            "Requirement already satisfied: pygame in /usr/local/lib/python3.10/dist-packages (from stable-baselines3[extra]>=2.0.0a4) (2.4.0)\n",
            "Collecting jax-jumpy>=1.0.0 (from gymnasium==0.28.1->stable-baselines3[extra]>=2.0.0a4)\n",
            "  Downloading jax_jumpy-1.0.0-py3-none-any.whl (20 kB)\n",
            "Requirement already satisfied: typing-extensions>=4.3.0 in /usr/local/lib/python3.10/dist-packages (from gymnasium==0.28.1->stable-baselines3[extra]>=2.0.0a4) (4.6.3)\n",
            "Collecting farama-notifications>=0.0.1 (from gymnasium==0.28.1->stable-baselines3[extra]>=2.0.0a4)\n",
            "  Downloading Farama_Notifications-0.0.4-py3-none-any.whl (2.5 kB)\n",
            "Requirement already satisfied: click in /usr/local/lib/python3.10/dist-packages (from autorom[accept-rom-license]~=0.6.0->stable-baselines3[extra]>=2.0.0a4) (8.1.3)\n",
            "Requirement already satisfied: requests in /usr/local/lib/python3.10/dist-packages (from autorom[accept-rom-license]~=0.6.0->stable-baselines3[extra]>=2.0.0a4) (2.27.1)\n",
            "Collecting AutoROM.accept-rom-license (from autorom[accept-rom-license]~=0.6.0->stable-baselines3[extra]>=2.0.0a4)\n",
            "  Downloading AutoROM.accept-rom-license-0.6.1.tar.gz (434 kB)\n",
            "\u001b[2K     \u001b[90m━━━━━━━━━━━━━━━━━━━━━━━━━━━━━━━━━━━━━━\u001b[0m \u001b[32m434.7/434.7 kB\u001b[0m \u001b[31m39.4 MB/s\u001b[0m eta \u001b[36m0:00:00\u001b[0m\n",
            "\u001b[?25h  Installing build dependencies ... \u001b[?25l\u001b[?25hdone\n",
            "  Getting requirements to build wheel ... \u001b[?25l\u001b[?25hdone\n",
            "  Preparing metadata (pyproject.toml) ... \u001b[?25l\u001b[?25hdone\n",
            "Collecting ale-py~=0.8.1 (from shimmy[atari]~=0.2.1->stable-baselines3[extra]>=2.0.0a4)\n",
            "  Downloading ale_py-0.8.1-cp310-cp310-manylinux_2_17_x86_64.manylinux2014_x86_64.whl (1.7 MB)\n",
            "\u001b[2K     \u001b[90m━━━━━━━━━━━━━━━━━━━━━━━━━━━━━━━━━━━━━━━━\u001b[0m \u001b[32m1.7/1.7 MB\u001b[0m \u001b[31m83.6 MB/s\u001b[0m eta \u001b[36m0:00:00\u001b[0m\n",
            "\u001b[?25hRequirement already satisfied: absl-py>=0.4 in /usr/local/lib/python3.10/dist-packages (from tensorboard>=2.9.1->stable-baselines3[extra]>=2.0.0a4) (1.4.0)\n",
            "Requirement already satisfied: grpcio>=1.48.2 in /usr/local/lib/python3.10/dist-packages (from tensorboard>=2.9.1->stable-baselines3[extra]>=2.0.0a4) (1.56.0)\n",
            "Requirement already satisfied: google-auth<3,>=1.6.3 in /usr/local/lib/python3.10/dist-packages (from tensorboard>=2.9.1->stable-baselines3[extra]>=2.0.0a4) (2.17.3)\n",
            "Requirement already satisfied: google-auth-oauthlib<1.1,>=0.5 in /usr/local/lib/python3.10/dist-packages (from tensorboard>=2.9.1->stable-baselines3[extra]>=2.0.0a4) (1.0.0)\n",
            "Requirement already satisfied: markdown>=2.6.8 in /usr/local/lib/python3.10/dist-packages (from tensorboard>=2.9.1->stable-baselines3[extra]>=2.0.0a4) (3.4.3)\n",
            "Requirement already satisfied: protobuf>=3.19.6 in /usr/local/lib/python3.10/dist-packages (from tensorboard>=2.9.1->stable-baselines3[extra]>=2.0.0a4) (3.20.3)\n",
            "Requirement already satisfied: setuptools>=41.0.0 in /usr/local/lib/python3.10/dist-packages (from tensorboard>=2.9.1->stable-baselines3[extra]>=2.0.0a4) (67.7.2)\n",
            "Requirement already satisfied: tensorboard-data-server<0.8.0,>=0.7.0 in /usr/local/lib/python3.10/dist-packages (from tensorboard>=2.9.1->stable-baselines3[extra]>=2.0.0a4) (0.7.1)\n",
            "Requirement already satisfied: werkzeug>=1.0.1 in /usr/local/lib/python3.10/dist-packages (from tensorboard>=2.9.1->stable-baselines3[extra]>=2.0.0a4) (2.3.6)\n",
            "Requirement already satisfied: wheel>=0.26 in /usr/local/lib/python3.10/dist-packages (from tensorboard>=2.9.1->stable-baselines3[extra]>=2.0.0a4) (0.40.0)\n",
            "Requirement already satisfied: filelock in /usr/local/lib/python3.10/dist-packages (from torch>=1.11->stable-baselines3[extra]>=2.0.0a4) (3.12.2)\n",
            "Requirement already satisfied: sympy in /usr/local/lib/python3.10/dist-packages (from torch>=1.11->stable-baselines3[extra]>=2.0.0a4) (1.11.1)\n",
            "Requirement already satisfied: networkx in /usr/local/lib/python3.10/dist-packages (from torch>=1.11->stable-baselines3[extra]>=2.0.0a4) (3.1)\n",
            "Requirement already satisfied: jinja2 in /usr/local/lib/python3.10/dist-packages (from torch>=1.11->stable-baselines3[extra]>=2.0.0a4) (3.1.2)\n",
            "Requirement already satisfied: triton==2.0.0 in /usr/local/lib/python3.10/dist-packages (from torch>=1.11->stable-baselines3[extra]>=2.0.0a4) (2.0.0)\n",
            "Requirement already satisfied: cmake in /usr/local/lib/python3.10/dist-packages (from triton==2.0.0->torch>=1.11->stable-baselines3[extra]>=2.0.0a4) (3.25.2)\n",
            "Requirement already satisfied: lit in /usr/local/lib/python3.10/dist-packages (from triton==2.0.0->torch>=1.11->stable-baselines3[extra]>=2.0.0a4) (16.0.6)\n",
            "Requirement already satisfied: contourpy>=1.0.1 in /usr/local/lib/python3.10/dist-packages (from matplotlib->stable-baselines3[extra]>=2.0.0a4) (1.1.0)\n",
            "Requirement already satisfied: cycler>=0.10 in /usr/local/lib/python3.10/dist-packages (from matplotlib->stable-baselines3[extra]>=2.0.0a4) (0.11.0)\n",
            "Requirement already satisfied: fonttools>=4.22.0 in /usr/local/lib/python3.10/dist-packages (from matplotlib->stable-baselines3[extra]>=2.0.0a4) (4.40.0)\n",
            "Requirement already satisfied: kiwisolver>=1.0.1 in /usr/local/lib/python3.10/dist-packages (from matplotlib->stable-baselines3[extra]>=2.0.0a4) (1.4.4)\n",
            "Requirement already satisfied: packaging>=20.0 in /usr/local/lib/python3.10/dist-packages (from matplotlib->stable-baselines3[extra]>=2.0.0a4) (23.1)\n",
            "Requirement already satisfied: pyparsing>=2.3.1 in /usr/local/lib/python3.10/dist-packages (from matplotlib->stable-baselines3[extra]>=2.0.0a4) (3.1.0)\n",
            "Requirement already satisfied: python-dateutil>=2.7 in /usr/local/lib/python3.10/dist-packages (from matplotlib->stable-baselines3[extra]>=2.0.0a4) (2.8.2)\n",
            "Requirement already satisfied: pytz>=2020.1 in /usr/local/lib/python3.10/dist-packages (from pandas->stable-baselines3[extra]>=2.0.0a4) (2022.7.1)\n",
            "Requirement already satisfied: markdown-it-py>=2.2.0 in /usr/local/lib/python3.10/dist-packages (from rich->stable-baselines3[extra]>=2.0.0a4) (3.0.0)\n",
            "Requirement already satisfied: pygments<3.0.0,>=2.13.0 in /usr/local/lib/python3.10/dist-packages (from rich->stable-baselines3[extra]>=2.0.0a4) (2.14.0)\n",
            "Requirement already satisfied: importlib-resources in /usr/local/lib/python3.10/dist-packages (from ale-py~=0.8.1->shimmy[atari]~=0.2.1->stable-baselines3[extra]>=2.0.0a4) (5.12.0)\n",
            "Requirement already satisfied: cachetools<6.0,>=2.0.0 in /usr/local/lib/python3.10/dist-packages (from google-auth<3,>=1.6.3->tensorboard>=2.9.1->stable-baselines3[extra]>=2.0.0a4) (5.3.1)\n",
            "Requirement already satisfied: pyasn1-modules>=0.2.1 in /usr/local/lib/python3.10/dist-packages (from google-auth<3,>=1.6.3->tensorboard>=2.9.1->stable-baselines3[extra]>=2.0.0a4) (0.3.0)\n",
            "Requirement already satisfied: six>=1.9.0 in /usr/local/lib/python3.10/dist-packages (from google-auth<3,>=1.6.3->tensorboard>=2.9.1->stable-baselines3[extra]>=2.0.0a4) (1.16.0)\n",
            "Requirement already satisfied: rsa<5,>=3.1.4 in /usr/local/lib/python3.10/dist-packages (from google-auth<3,>=1.6.3->tensorboard>=2.9.1->stable-baselines3[extra]>=2.0.0a4) (4.9)\n",
            "Requirement already satisfied: requests-oauthlib>=0.7.0 in /usr/local/lib/python3.10/dist-packages (from google-auth-oauthlib<1.1,>=0.5->tensorboard>=2.9.1->stable-baselines3[extra]>=2.0.0a4) (1.3.1)\n",
            "Requirement already satisfied: mdurl~=0.1 in /usr/local/lib/python3.10/dist-packages (from markdown-it-py>=2.2.0->rich->stable-baselines3[extra]>=2.0.0a4) (0.1.2)\n",
            "Requirement already satisfied: urllib3<1.27,>=1.21.1 in /usr/local/lib/python3.10/dist-packages (from requests->autorom[accept-rom-license]~=0.6.0->stable-baselines3[extra]>=2.0.0a4) (1.26.16)\n",
            "Requirement already satisfied: certifi>=2017.4.17 in /usr/local/lib/python3.10/dist-packages (from requests->autorom[accept-rom-license]~=0.6.0->stable-baselines3[extra]>=2.0.0a4) (2023.5.7)\n",
            "Requirement already satisfied: charset-normalizer~=2.0.0 in /usr/local/lib/python3.10/dist-packages (from requests->autorom[accept-rom-license]~=0.6.0->stable-baselines3[extra]>=2.0.0a4) (2.0.12)\n",
            "Requirement already satisfied: idna<4,>=2.5 in /usr/local/lib/python3.10/dist-packages (from requests->autorom[accept-rom-license]~=0.6.0->stable-baselines3[extra]>=2.0.0a4) (3.4)\n",
            "Requirement already satisfied: MarkupSafe>=2.1.1 in /usr/local/lib/python3.10/dist-packages (from werkzeug>=1.0.1->tensorboard>=2.9.1->stable-baselines3[extra]>=2.0.0a4) (2.1.3)\n",
            "Requirement already satisfied: mpmath>=0.19 in /usr/local/lib/python3.10/dist-packages (from sympy->torch>=1.11->stable-baselines3[extra]>=2.0.0a4) (1.3.0)\n",
            "Requirement already satisfied: pyasn1<0.6.0,>=0.4.6 in /usr/local/lib/python3.10/dist-packages (from pyasn1-modules>=0.2.1->google-auth<3,>=1.6.3->tensorboard>=2.9.1->stable-baselines3[extra]>=2.0.0a4) (0.5.0)\n",
            "Requirement already satisfied: oauthlib>=3.0.0 in /usr/local/lib/python3.10/dist-packages (from requests-oauthlib>=0.7.0->google-auth-oauthlib<1.1,>=0.5->tensorboard>=2.9.1->stable-baselines3[extra]>=2.0.0a4) (3.2.2)\n",
            "Building wheels for collected packages: AutoROM.accept-rom-license\n",
            "  Building wheel for AutoROM.accept-rom-license (pyproject.toml) ... \u001b[?25l\u001b[?25hdone\n",
            "  Created wheel for AutoROM.accept-rom-license: filename=AutoROM.accept_rom_license-0.6.1-py3-none-any.whl size=446660 sha256=86149f924d50a584408d13d1997bc2cdbee017034639dcb1372f94cc889b5705\n",
            "  Stored in directory: /root/.cache/pip/wheels/6b/1b/ef/a43ff1a2f1736d5711faa1ba4c1f61be1131b8899e6a057811\n",
            "Successfully built AutoROM.accept-rom-license\n",
            "Installing collected packages: farama-notifications, jax-jumpy, ale-py, gymnasium, AutoROM.accept-rom-license, autorom, shimmy, stable-baselines3\n",
            "Successfully installed AutoROM.accept-rom-license-0.6.1 ale-py-0.8.1 autorom-0.6.1 farama-notifications-0.0.4 gymnasium-0.28.1 jax-jumpy-1.0.0 shimmy-0.2.1 stable-baselines3-2.0.0\n"
          ]
        }
      ],
      "source": [
        "!apt-get install ffmpeg freeglut3-dev xvfb  # For visualization\n",
        "!pip install \"stable-baselines3[extra]>=2.0.0a4\""
      ]
    },
    {
      "cell_type": "markdown",
      "metadata": {
        "id": "FtY8FhliLsGm"
      },
      "source": [
        "## Imports"
      ]
    },
    {
      "cell_type": "markdown",
      "metadata": {
        "id": "gcX8hEcaUpR0"
      },
      "source": [
        "Stable-Baselines3 works on environments that follow the [gym interface](https://stable-baselines3.readthedocs.io/en/master/guide/custom_env.html).\n",
        "You can find a list of available environment [here](https://gymnasium.farama.org/environments/classic_control/).\n",
        "\n",
        "Not all algorithms can work with all action spaces, you can find more in this [recap table](https://stable-baselines3.readthedocs.io/en/master/guide/algos.html)"
      ]
    },
    {
      "cell_type": "code",
      "execution_count": 2,
      "metadata": {
        "id": "BIedd7Pz9sOs"
      },
      "outputs": [],
      "source": [
        "import gymnasium as gym\n",
        "import numpy as np"
      ]
    },
    {
      "cell_type": "markdown",
      "metadata": {
        "id": "Ae32CtgzTG3R"
      },
      "source": [
        "The first thing you need to import is the RL model, check the documentation to know what you can use on which problem"
      ]
    },
    {
      "cell_type": "code",
      "execution_count": 3,
      "metadata": {
        "colab": {
          "base_uri": "https://localhost:8080/"
        },
        "id": "R7tKaBFrTR0a",
        "outputId": "fdf56f2f-271d-4d0c-aa92-d96ceea221bd"
      },
      "outputs": [
        {
          "output_type": "stream",
          "name": "stderr",
          "text": [
            "/usr/local/lib/python3.10/dist-packages/torch/utils/tensorboard/__init__.py:4: DeprecationWarning: distutils Version classes are deprecated. Use packaging.version instead.\n",
            "  if not hasattr(tensorboard, \"__version__\") or LooseVersion(\n",
            "/usr/local/lib/python3.10/dist-packages/jaxlib/xla_client.py:225: DeprecationWarning: ml_dtypes.float8_e4m3b11 is deprecated. Use ml_dtypes.float8_e4m3b11fnuz\n",
            "  float8_e4m3b11fnuz = ml_dtypes.float8_e4m3b11\n"
          ]
        }
      ],
      "source": [
        "from stable_baselines3 import PPO"
      ]
    },
    {
      "cell_type": "markdown",
      "metadata": {
        "id": "-0_8OQbOTTNT"
      },
      "source": [
        "The next thing you need to import is the policy class that will be used to create the networks (for the policy/value functions).\n",
        "This step is optional as you can directly use strings in the constructor:\n",
        "\n",
        "```PPO('MlpPolicy', env)``` instead of ```PPO(MlpPolicy, env)```\n",
        "\n",
        "Note that some algorithms like `SAC` have their own `MlpPolicy`, that's why using string for the policy is the recommended option."
      ]
    },
    {
      "cell_type": "code",
      "execution_count": 4,
      "metadata": {
        "id": "ROUJr675TT01"
      },
      "outputs": [],
      "source": [
        "from stable_baselines3.ppo.policies import MlpPolicy"
      ]
    },
    {
      "cell_type": "markdown",
      "metadata": {
        "id": "RapkYvTXL7Cd"
      },
      "source": [
        "## Create the Gym env and instantiate the agent\n",
        "\n",
        "For this example, we will use CartPole environment, a classic control problem.\n",
        "\n",
        "\"A pole is attached by an un-actuated joint to a cart, which moves along a frictionless track. The system is controlled by applying a force of +1 or -1 to the cart. The pendulum starts upright, and the goal is to prevent it from falling over. A reward of +1 is provided for every timestep that the pole remains upright. \"\n",
        "\n",
        "Cartpole environment: [https://gymnasium.farama.org/environments/classic_control/cart_pole/](https://gymnasium.farama.org/environments/classic_control/cart_pole/)\n",
        "\n",
        "![Cartpole](https://cdn-images-1.medium.com/max/1143/1*h4WTQNVIsvMXJTCpXm_TAw.gif)\n",
        "\n",
        "\n",
        "We chose the MlpPolicy because the observation of the CartPole task is a feature vector, not images.\n",
        "\n",
        "The type of action to use (discrete/continuous) will be automatically deduced from the environment action space\n",
        "\n",
        "Here we are using the [Proximal Policy Optimization](https://stable-baselines3.readthedocs.io/en/master/modules/ppo.html) algorithm, which is an Actor-Critic method: it uses a value function to improve the policy gradient descent (by reducing the variance).\n",
        "\n",
        "It combines ideas from [A2C](https://stable-baselines3.readthedocs.io/en/master/modules/a2c.html) (having multiple workers and using an entropy bonus for exploration) and [TRPO](https://stable-baselines.readthedocs.io/en/master/modules/trpo.html) (it uses a trust region to improve stability and avoid catastrophic drops in performance).\n",
        "\n",
        "PPO is an on-policy algorithm, which means that the trajectories used to update the networks must be collected using the latest policy.\n",
        "It is usually less sample efficient than off-policy alorithms like [DQN](https://stable-baselines.readthedocs.io/en/master/modules/dqn.html), [SAC](https://stable-baselines3.readthedocs.io/en/master/modules/sac.html) or [TD3](https://stable-baselines3.readthedocs.io/en/master/modules/td3.html), but is much faster regarding wall-clock time.\n"
      ]
    },
    {
      "cell_type": "code",
      "execution_count": 5,
      "metadata": {
        "id": "pUWGZp3i9wyf"
      },
      "outputs": [],
      "source": [
        "env = gym.make(\"CartPole-v1\")\n",
        "\n",
        "model = PPO(MlpPolicy, env, verbose=0)"
      ]
    },
    {
      "cell_type": "markdown",
      "metadata": {
        "id": "4efFdrQ7MBvl"
      },
      "source": [
        "We create a helper function to evaluate the agent:"
      ]
    },
    {
      "cell_type": "code",
      "execution_count": 6,
      "metadata": {
        "id": "63M8mSKR-6Zt"
      },
      "outputs": [],
      "source": [
        "from stable_baselines3.common.base_class import BaseAlgorithm\n",
        "\n",
        "\n",
        "def evaluate(\n",
        "    model: BaseAlgorithm,\n",
        "    num_episodes: int = 100,\n",
        "    deterministic: bool = True,\n",
        ") -> float:\n",
        "    \"\"\"\n",
        "    Evaluate an RL agent for `num_episodes`.\n",
        "\n",
        "    :param model: the RL Agent\n",
        "    :param env: the gym Environment\n",
        "    :param num_episodes: number of episodes to evaluate it\n",
        "    :param deterministic: Whether to use deterministic or stochastic actions\n",
        "    :return: Mean reward for the last `num_episodes`\n",
        "    \"\"\"\n",
        "    # This function will only work for a single environment\n",
        "    vec_env = model.get_env()\n",
        "    obs = vec_env.reset()\n",
        "    all_episode_rewards = []\n",
        "    for _ in range(num_episodes):\n",
        "        episode_rewards = []\n",
        "        done = False\n",
        "        # Note: SB3 VecEnv resets automatically:\n",
        "        # https://stable-baselines3.readthedocs.io/en/master/guide/vec_envs.html#vecenv-api-vs-gym-api\n",
        "        # obs = vec_env.reset()\n",
        "        while not done:\n",
        "            # _states are only useful when using LSTM policies\n",
        "            # `deterministic` is to use deterministic actions\n",
        "            action, _states = model.predict(obs, deterministic=deterministic)\n",
        "            # here, action, rewards and dones are arrays\n",
        "            # because we are using vectorized env\n",
        "            obs, reward, done, _info = vec_env.step(action)\n",
        "            episode_rewards.append(reward)\n",
        "\n",
        "        all_episode_rewards.append(sum(episode_rewards))\n",
        "\n",
        "    mean_episode_reward = np.mean(all_episode_rewards)\n",
        "    print(f\"Mean reward: {mean_episode_reward:.2f} - Num episodes: {num_episodes}\")\n",
        "\n",
        "    return mean_episode_reward"
      ]
    },
    {
      "cell_type": "markdown",
      "metadata": {
        "id": "zjEVOIY8NVeK"
      },
      "source": [
        "Let's evaluate the un-trained agent, this should be a random agent."
      ]
    },
    {
      "cell_type": "code",
      "execution_count": 7,
      "metadata": {
        "colab": {
          "base_uri": "https://localhost:8080/"
        },
        "id": "xDHLMA6NFk95",
        "outputId": "021c4aa0-3752-4d62-f7ec-942e45725f95"
      },
      "outputs": [
        {
          "output_type": "stream",
          "name": "stdout",
          "text": [
            "Mean reward: 458.52 - Num episodes: 100\n"
          ]
        }
      ],
      "source": [
        "# Random Agent, before training\n",
        "mean_reward_before_train = evaluate(model, num_episodes=100, deterministic=True)"
      ]
    },
    {
      "cell_type": "markdown",
      "metadata": {
        "id": "QjjPxrwkYJ2i"
      },
      "source": [
        "Stable-Baselines already provides you with that helper:"
      ]
    },
    {
      "cell_type": "code",
      "execution_count": 8,
      "metadata": {
        "id": "8z6K9YImYJEx"
      },
      "outputs": [],
      "source": [
        "from stable_baselines3.common.evaluation import evaluate_policy"
      ]
    },
    {
      "cell_type": "code",
      "execution_count": 9,
      "metadata": {
        "colab": {
          "base_uri": "https://localhost:8080/"
        },
        "id": "4oPTHjxyZSOL",
        "outputId": "7aa5c1be-c716-48be-d5f8-8ecc8321bed6"
      },
      "outputs": [
        {
          "output_type": "stream",
          "name": "stdout",
          "text": [
            "mean_reward: 451.24 +/- 48.50\n"
          ]
        }
      ],
      "source": [
        "mean_reward, std_reward = evaluate_policy(model, env, n_eval_episodes=100, warn=False)\n",
        "\n",
        "print(f\"mean_reward: {mean_reward:.2f} +/- {std_reward:.2f}\")"
      ]
    },
    {
      "cell_type": "markdown",
      "metadata": {
        "id": "r5UoXTZPNdFE"
      },
      "source": [
        "## Train the agent and evaluate it"
      ]
    },
    {
      "cell_type": "code",
      "execution_count": 10,
      "metadata": {
        "colab": {
          "base_uri": "https://localhost:8080/"
        },
        "id": "e4cfSXIB-pTF",
        "outputId": "1fb0337b-05f9-4aff-d377-f820ad1d1645"
      },
      "outputs": [
        {
          "output_type": "execute_result",
          "data": {
            "text/plain": [
              "<stable_baselines3.ppo.ppo.PPO at 0x7f262820c910>"
            ]
          },
          "metadata": {},
          "execution_count": 10
        }
      ],
      "source": [
        "# Train the agent for 10000 steps\n",
        "model.learn(total_timesteps=10_000)"
      ]
    },
    {
      "cell_type": "code",
      "execution_count": 11,
      "metadata": {
        "colab": {
          "base_uri": "https://localhost:8080/"
        },
        "id": "ygl_gVmV_QP7",
        "outputId": "4a0aa24f-d952-447b-8d2f-ea3d6fef2cff"
      },
      "outputs": [
        {
          "output_type": "stream",
          "name": "stderr",
          "text": [
            "/usr/local/lib/python3.10/dist-packages/stable_baselines3/common/evaluation.py:67: UserWarning: Evaluation environment is not wrapped with a ``Monitor`` wrapper. This may result in reporting modified episode lengths and rewards, if other wrappers happen to modify these. Consider wrapping environment first with ``Monitor`` wrapper.\n",
            "  warnings.warn(\n"
          ]
        },
        {
          "output_type": "stream",
          "name": "stdout",
          "text": [
            "mean_reward:324.69 +/- 116.51\n"
          ]
        }
      ],
      "source": [
        "# Evaluate the trained agent\n",
        "mean_reward, std_reward = evaluate_policy(model, env, n_eval_episodes=100)\n",
        "\n",
        "print(f\"mean_reward:{mean_reward:.2f} +/- {std_reward:.2f}\")"
      ]
    },
    {
      "cell_type": "markdown",
      "metadata": {
        "id": "A00W6yY3NkHG"
      },
      "source": [
        "Apparently the training went well, the mean reward increased a lot !"
      ]
    },
    {
      "cell_type": "markdown",
      "metadata": {
        "id": "xVm9QPNVwKXN"
      },
      "source": [
        "### Prepare video recording"
      ]
    },
    {
      "cell_type": "code",
      "execution_count": 12,
      "metadata": {
        "id": "MPyfQxD5z26J"
      },
      "outputs": [],
      "source": [
        "# Set up fake display; otherwise rendering will fail\n",
        "import os\n",
        "os.system(\"Xvfb :1 -screen 0 1024x768x24 &\")\n",
        "os.environ['DISPLAY'] = ':1'"
      ]
    },
    {
      "cell_type": "code",
      "execution_count": 13,
      "metadata": {
        "id": "SLzXxO8VMD6N"
      },
      "outputs": [],
      "source": [
        "import base64\n",
        "from pathlib import Path\n",
        "\n",
        "from IPython import display as ipythondisplay\n",
        "\n",
        "\n",
        "def show_videos(video_path=\"\", prefix=\"\"):\n",
        "    \"\"\"\n",
        "    Taken from https://github.com/eleurent/highway-env\n",
        "\n",
        "    :param video_path: (str) Path to the folder containing videos\n",
        "    :param prefix: (str) Filter the video, showing only the only starting with this prefix\n",
        "    \"\"\"\n",
        "    html = []\n",
        "    for mp4 in Path(video_path).glob(\"{}*.mp4\".format(prefix)):\n",
        "        video_b64 = base64.b64encode(mp4.read_bytes())\n",
        "        html.append(\n",
        "            \"\"\"<video alt=\"{}\" autoplay\n",
        "                    loop controls style=\"height: 400px;\">\n",
        "                    <source src=\"data:video/mp4;base64,{}\" type=\"video/mp4\" />\n",
        "                </video>\"\"\".format(\n",
        "                mp4, video_b64.decode(\"ascii\")\n",
        "            )\n",
        "        )\n",
        "    ipythondisplay.display(ipythondisplay.HTML(data=\"<br>\".join(html)))"
      ]
    },
    {
      "cell_type": "markdown",
      "metadata": {
        "id": "LTRNUfulOGaF"
      },
      "source": [
        "We will record a video using the [VecVideoRecorder](https://stable-baselines3.readthedocs.io/en/master/guide/vec_envs.html#vecvideorecorder) wrapper, you will learn about those wrapper in the next notebook."
      ]
    },
    {
      "cell_type": "code",
      "execution_count": 14,
      "metadata": {
        "id": "Trag9dQpOIhx"
      },
      "outputs": [],
      "source": [
        "from stable_baselines3.common.vec_env import VecVideoRecorder, DummyVecEnv\n",
        "\n",
        "\n",
        "def record_video(env_id, model, video_length=500, prefix=\"\", video_folder=\"videos/\"):\n",
        "    \"\"\"\n",
        "    :param env_id: (str)\n",
        "    :param model: (RL model)\n",
        "    :param video_length: (int)\n",
        "    :param prefix: (str)\n",
        "    :param video_folder: (str)\n",
        "    \"\"\"\n",
        "    eval_env = DummyVecEnv([lambda: gym.make(env_id, render_mode=\"rgb_array\")])\n",
        "    # Start the video at step=0 and record 500 steps\n",
        "    eval_env = VecVideoRecorder(\n",
        "        eval_env,\n",
        "        video_folder=video_folder,\n",
        "        record_video_trigger=lambda step: step == 0,\n",
        "        video_length=video_length,\n",
        "        name_prefix=prefix,\n",
        "    )\n",
        "\n",
        "    obs = eval_env.reset()\n",
        "    for _ in range(video_length):\n",
        "        action, _ = model.predict(obs)\n",
        "        obs, _, _, _ = eval_env.step(action)\n",
        "\n",
        "    # Close the video recorder\n",
        "    eval_env.close()"
      ]
    },
    {
      "cell_type": "markdown",
      "metadata": {
        "id": "KOObbeu5MMlR"
      },
      "source": [
        "### Visualize trained agent\n",
        "\n"
      ]
    },
    {
      "cell_type": "code",
      "execution_count": 17,
      "metadata": {
        "colab": {
          "base_uri": "https://localhost:8080/"
        },
        "id": "iATu7AiyMQW2",
        "outputId": "7881b765-c172-4bce-96cc-ec268ebf49a7"
      },
      "outputs": [
        {
          "output_type": "stream",
          "name": "stdout",
          "text": [
            "Saving video to /content/videos/ppo-cartpole-step-0-to-step-500.mp4\n",
            "Moviepy - Building video /content/videos/ppo-cartpole-step-0-to-step-500.mp4.\n",
            "Moviepy - Writing video /content/videos/ppo-cartpole-step-0-to-step-500.mp4\n",
            "\n"
          ]
        },
        {
          "output_type": "stream",
          "name": "stderr",
          "text": []
        },
        {
          "output_type": "stream",
          "name": "stdout",
          "text": [
            "Moviepy - Done !\n",
            "Moviepy - video ready /content/videos/ppo-cartpole-step-0-to-step-500.mp4\n"
          ]
        }
      ],
      "source": [
        "record_video(\"CartPole-v1\", model, video_length=500, prefix=\"ppo-cartpole\")"
      ]
    },
    {
      "cell_type": "code",
      "execution_count": 18,
      "metadata": {
        "colab": {
          "base_uri": "https://localhost:8080/",
          "height": 421
        },
        "id": "-n4i-fW3NojZ",
        "outputId": "11308f13-d651-4af9-d3d9-751c7213625d"
      },
      "outputs": [
        {
          "output_type": "display_data",
          "data": {
            "text/plain": [
              "<IPython.core.display.HTML object>"
            ],
            "text/html": [
              "<video alt=\"videos/ppo-cartpole-step-0-to-step-500.mp4\" autoplay \n",
              "                    loop controls style=\"height: 400px;\">\n",
              "                    <source src=\"data:video/mp4;base64,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\" type=\"video/mp4\" />\n",
              "                </video>"
            ]
          },
          "metadata": {}
        }
      ],
      "source": [
        "show_videos(\"videos\", prefix=\"ppo\")"
      ]
    },
    {
      "cell_type": "markdown",
      "metadata": {
        "id": "9Y8zg4V566qD"
      },
      "source": [
        "## Bonus: Train a RL Model in One Line\n",
        "\n",
        "The policy class to use will be inferred and the environment will be automatically created. This works because both are [registered](https://stable-baselines3.readthedocs.io/en/master/guide/quickstart.html)."
      ]
    },
    {
      "cell_type": "code",
      "execution_count": 19,
      "metadata": {
        "colab": {
          "base_uri": "https://localhost:8080/"
        },
        "id": "iaOPfOrwWEP4",
        "outputId": "62c827cb-9de1-4d2b-e286-bdd6e530db51"
      },
      "outputs": [
        {
          "output_type": "stream",
          "name": "stdout",
          "text": [
            "Using cuda device\n",
            "Creating environment from the given name 'CartPole-v1'\n",
            "Wrapping the env with a `Monitor` wrapper\n",
            "Wrapping the env in a DummyVecEnv.\n",
            "---------------------------------\n",
            "| rollout/           |          |\n",
            "|    ep_len_mean     | 24.5     |\n",
            "|    ep_rew_mean     | 24.5     |\n",
            "| time/              |          |\n",
            "|    fps             | 725      |\n",
            "|    iterations      | 1        |\n",
            "|    time_elapsed    | 2        |\n",
            "|    total_timesteps | 2048     |\n",
            "---------------------------------\n"
          ]
        }
      ],
      "source": [
        "model = PPO('MlpPolicy', \"CartPole-v1\", verbose=1).learn(1000)"
      ]
    },
    {
      "cell_type": "code",
      "source": [
        "record_video(\"CartPole-v1\", model, video_length=500, prefix=\"ppo-cartpole\")"
      ],
      "metadata": {
        "id": "8UL69IZqMVU1",
        "outputId": "5741a961-1bb4-4591-e720-7905a6ba30cc",
        "colab": {
          "base_uri": "https://localhost:8080/"
        }
      },
      "execution_count": 22,
      "outputs": [
        {
          "output_type": "stream",
          "name": "stdout",
          "text": [
            "Saving video to /content/videos/ppo-cartpole-step-0-to-step-500.mp4\n",
            "Moviepy - Building video /content/videos/ppo-cartpole-step-0-to-step-500.mp4.\n",
            "Moviepy - Writing video /content/videos/ppo-cartpole-step-0-to-step-500.mp4\n",
            "\n"
          ]
        },
        {
          "output_type": "stream",
          "name": "stderr",
          "text": [
            "                                                               "
          ]
        },
        {
          "output_type": "stream",
          "name": "stdout",
          "text": [
            "Moviepy - Done !\n",
            "Moviepy - video ready /content/videos/ppo-cartpole-step-0-to-step-500.mp4\n"
          ]
        },
        {
          "output_type": "stream",
          "name": "stderr",
          "text": [
            "\r"
          ]
        }
      ]
    },
    {
      "cell_type": "code",
      "source": [
        "show_videos(\"videos\", prefix=\"ppo\")"
      ],
      "metadata": {
        "id": "1O68cX5fMXnj",
        "outputId": "f197f843-5a1a-4bba-a4d7-0eb848cec346",
        "colab": {
          "base_uri": "https://localhost:8080/",
          "height": 421
        }
      },
      "execution_count": 23,
      "outputs": [
        {
          "output_type": "display_data",
          "data": {
            "text/plain": [
              "<IPython.core.display.HTML object>"
            ],
            "text/html": [
              "<video alt=\"videos/ppo-cartpole-step-0-to-step-500.mp4\" autoplay \n",
              "                    loop controls style=\"height: 400px;\">\n",
              "                    <source src=\"data:video/mp4;base64,AAAAIGZ0eXBpc29tAAACAGlzb21pc28yYXZjMW1wNDEAAAAIZnJlZQAAoDxtZGF0AAACrgYF//+q3EXpvebZSLeWLNgg2SPu73gyNjQgLSBjb3JlIDE1OSByMjk5MSAxNzcxYjU1IC0gSC4yNjQvTVBFRy00IEFWQyBjb2RlYyAtIENvcHlsZWZ0IDIwMDMtMjAxOSAtIGh0dHA6Ly93d3cudmlkZW9sYW4ub3JnL3gyNjQuaHRtbCAtIG9wdGlvbnM6IGNhYmFjPTEgcmVmPTMgZGVibG9jaz0xOjA6MCBhbmFseXNlPTB4MzoweDExMyBtZT1oZXggc3VibWU9NyBwc3k9MSBwc3lfcmQ9MS4wMDowLjAwIG1peGVkX3JlZj0xIG1lX3JhbmdlPTE2IGNocm9tYV9tZT0xIHRyZWxsaXM9MSA4eDhkY3Q9MSBjcW09MCBkZWFkem9uZT0yMSwxMSBmYXN0X3Bza2lwPTEgY2hyb21hX3FwX29mZnNldD0tMiB0aHJlYWRzPTMgbG9va2FoZWFkX3RocmVhZHM9MSBzbGljZWRfdGhyZWFkcz0wIG5yPTAgZGVjaW1hdGU9MSBpbnRlcmxhY2VkPTAgYmx1cmF5X2NvbXBhdD0wIGNvbnN0cmFpbmVkX2ludHJhPTAgYmZyYW1lcz0zIGJfcHlyYW1pZD0yIGJfYWRhcHQ9MSBiX2JpYXM9MCBkaXJlY3Q9MSB3ZWlnaHRiPTEgb3Blbl9nb3A9MCB3ZWlnaHRwPTIga2V5aW50PTI1MCBrZXlpbnRfbWluPTI1IHNjZW5lY3V0PTQwIGludHJhX3JlZnJlc2g9MCByY19sb29rYWhlYWQ9NDAgcmM9Y3JmIG1idHJlZT0xIGNyZj0yMy4wIHFjb21wPTAuNjAgcXBtaW49MCBxcG1heD02OSBxcHN0ZXA9NCBpcF9yYXRpbz0xLjQwIGFxPTE6MS4wMACAAAAB5WWIhAAv//72rvzLK0cLlS4dWXuzUfLoSXL9iDB9aAAAAwAAAwAAJuKiZ0WFMeJsgAAALmAIWElDyDzETFWKgSxDPavgnEaBKASAiSlottBR09Ye9ztELEFIG/lPDxIhIe2EEnHyZsPU9YdbA24SZs0xW+22/EJ0Wobj+I3H04s7c+4oPSY7H6UwPlowdKVPwDfOcFQhIzv1t9JuA0/giT2AA2u/9Up5xWXz6MT62IAHZ0qwh554PruEAhbapde1EVf1NS/mMdKhWjScXobmDZydrzwDSkJdmD+aFxksS+K7AT0YiWc9lyitKMefNk0QcdXwqO4gfdbhtQZ7gdE34lQxDnvij6/04KYPgmdYeTvW0Q03BfJ9ipgs/KF5kJwuP5JMbxi8vWC8Qlmzn8U1SXFdDlUetSr3esvriY32bpziK8dsiEFFPlHGg6gPT0/6FHQCJOkoXc7fluMGrXISdUjuk+Z+itcexdE2VqEs/h7+7FGMoGBw82qPpqNPu8lf2Irk1XjTGFcweUt5CAPjIbSP3LQmfnDUabachaI/a4f98ut485mjaNgAqwbJQ/V1bADAPSK+RcUaqBoEfJPDEfzhUKh1AvOUeqDzT0/eKjFQcKcUfDui1iJwAA4DFsAAAAMAAH3BAAAASkGaI2xDP/6eEAAACfnPXuDYa4ACL1erhgSSXiXc5cqQl+pVj+pk/iWN4H5bHr991H2yecqXEL/sO7je0pDDEX2REmfVkxWca6s8AAAAJUGeQXiEfwAAAwM29v/GED2b7SG4xgrHmeJEof8vZpXBttRA2YEAAAAiAZ5iakf/AAAE+T5gvJL2PV2IyuO5JEn6TRvdTeY/I1zUqAAAAF9BmmdJqEFomUwIZ//+nhAAABpXxTQA1OTIth96RzOrjAg/K3TkUxd4E2w4iA3CA37Wf4K5aGHGHSlAh/X6GOwCWttLXh7YYLathf3GMMniHDBtZjzNfjkot9bQobLDEQAAADFBnoVFESwj/wAAFrMrtQI/iXtmszilCauB5werVJj2/DIEV4Sz17ECUcEK28cos0FhAAAAGQGepHRH/wAAI6v4W3gSnWgjiCXIv+G+7uEAAAAhAZ6makf/AAAjscwPdzNMhXqBGDXGG0Eek4Cv8L2f87wZAAAAlUGaq0moQWyZTAhn//6eEAAARUUotADnpyc3tX82iX4e3EmsGnMja8EFIbFrCS8AFnevJtnLZZxoG61iTTYM3PsUuMYhe1vByUO11QdY5dHkPW/vsHR48wF/7ZD6wAnzNF/pUuSp33T1jERfKSVlDcC5INRtNR6yKChmt1DgCXT34kt6zFVUou2TxmJ2TsjuZ2h0+FPAAAAAPUGeyUUVLCP/AAAWtSs4620s1w33qBhf60HY2THS94rKh6WtiVh5MYBcOyTwMI4X2Oa3qgA2mjL/1PE+duAAAAA8AZ7odEf/AAAjq/hdjVwALRnnUH00RjyrNPIXx4GK7pWWTfywb8RTKqtidM4khssMEtl014kFYU30UQdvAAAAIAGe6mpH/wAADYKOYecnm07CyqR+x7+kBMo3uq2JL5JwAAAAQkGa70moQWyZTAhn//6eEAAARVUNZqb3wcsZO7WKpiZwTw2F+Htx/hO0ypaP3aCC/3BBIPZIAixGmm54/PiMehn+wAAAAENBnw1FFSwj/wAAFrxDzb0DgBq9dx6nYEfYxZ/DXHVwyDCJiI0tGP1Qi3rYvnE8Soo+Rmg15Hn99y4V5V5mznB78NOTAAAANAGfLHRH/wAADX9BrlAffBSmwS0f9obxeB0udJVmLzcUY02JdCPTTOtD/TgBiDKgYXkjts0AAAApAZ8uakf/AAAjvwQlm8g6EF/lQ8hqWZ+ptSEWvptJuSknJtYZzoFgPg0AAABaQZszSahBbJlMCGf//p4QAAAaWwBrl+Rcm746p04M6DkJB0AEMw2nDQJPSI4L/vc+4kU6DgtTbsb3GFHomKGx4oh1IHDvEHMdWRJAAE0NXZhODDPmrhMU5OpYAAAAKEGfUUUVLCP/AAAWwJs/R8ZIDNStbRemYDJucHw0l8KbUqdVNvzoISoAAAAlAZ9wdEf/AAAjwxdl4unpa7/YV+USG8ygiQCIPS+TO17zoB2SYQAAAB0Bn3JqR/8AACO/BCcSyWmauFZTHyo7fi+tjQSSYAAAAEpBm3dJqEFsmUwIX//+jLAAAEYRrBEBcsaATS1ls+OAyE5y3YH/4tptGdWhel2I00P4/O/mhZYGrzhGxGyoWS5jyNm0h//b/lHKxAAAACVBn5VFFSwj/wAAFrUrN2tbFfp5vC9CV/hAkcf5oCM7390hZaknAAAAFgGftHRH/wAAI8MXaKmlU9T7wnkIFlAAAAAaAZ+2akf/AAADAdrN8OvUTwIMx7AEDVPtJAUAAACGQZu7SahBbJlMCF///oywAAAahz7BQmxvLW8CDgqTTbSTVa0MmmxeAx40ND0Ioki10N+sK732kd/M23MGCuvYhieFoD0eqeQ1yV72DITSCmRhD9Su1usKN9FHqZ/yv+txo70l31fjgm/UyAM6uL6A/CzGPe35jDC1duY6ZvQ70GQ5NtaPVksAAAAhQZ/ZRRUsI/8AAAMDOStSQlrDT582m6IIeiCjNLxIsq24AAAADgGf+HRH/wAAAwAAAwGpAAAAKgGf+mpH/wAABR5KXdfw6fHUDU2dEKPeMm4pJFZeC5H+7H8onvn6AVjtmAAAANdBm/5JqEFsmUwIX//+jLAAAEYpDliRwFBJwx1IeDkIO9qu9MkNAiigtLZ/1dANd9CpKRrO47oKdXli+G1VIXgdi3zykV5WgRElpXOn+FklnuSrmh/5Yq5dREjZb9LkHMrb9ACAX43xQUXRuAtetr9PgD/bmPse+6kszjTI5RdfeeFYY8jyMQ+d2rwrT4l0HS9PMl0ooE//JOQezV5+w7TFLjCAiTB/o7z+sWDxc0Gbeb0WTNvpmVPpt78PHNhkkuUipS0A03kBvFIYKoGYOp7JMfzVCcU0uQAAADhBnhxFFSwj/wAAFruKlGRlV8sSK9QoENqqDwsaHOKOjG9vUtvEaA8hBLw18aoynyGSaHgBwOu2YQAAAEEBnj1qR/8AACOuXjOGcuh4Zbq/Xc8FkEMKgbvqIR/8UPwF51orbFhbSobM3SW9cq1tujvhADicOzmgyMoIxxbZgAAAAMRBmiFJqEFsmUwIX//+jLAAAEYCAkyXU2vlg1dAAAuIaMvGd2KtR4uLiSP9JXC5XTuQaGznTjg7Qe0zIvN+NWXdUGp5qZ+pna+LUZmyDI+s1/Yb1y9I/Zwr1db/1RK22Ng3/9wQ2rROmq+qYiUdZuWYRzzC86Ak/+VJfxUqtuRGWhC/0USHZMEAHQSs33MF4QDaOWniehc1t/Zt+FHyCpBJA71xn7TxPcU4Pt8YQxyq8WR5PgyFNz+aNN2Mbh59TwsoJX00AAAAS0GeX0UVLCP/AAAWu4qUY/h40fpHm99UsDtY6ChSziCBmKsw+oDeQ3GlggPLFDdxSdYTyKPOLrcBAC1H3boU3qZlfKM6vviXSgf96QAAAEoBnmBqR/8AACK9hB3oUE7rD1lNoGXfYSJ+P7KCJqiUb8saocJJCrEpfjYeyuHKXQXxZG4hM8AD+Hbl7nQe33uhviEqkTAAAu6nmwAAALtBmmRJqEFsmUwIZ//+nhAAAEWBkA7Qr7kA0FqoeKQDq0ncIdbnZgeZgRYm5v7/CwEq3BxQX1ljLe502UcYozqmx4up6ns782sefeOWutilI6f6AbpsYkEHMPZome7T4jjgnH6HinR4i5NKjBki2V7M29Es9WB7ZQTY8TiFmpZJ7cQPZH0CYDL8ii5BvmbLs/sAWJd2MlZSpY8kJfcQgUfeQfRpKjOIhE6rzwzWSsm0EhbeTwuP/SfqtVEtAAAAX0GegkUVLCP/AAAWqlhS2Rfzb0fZ1YSNqYR8XwWYFBQqrX3mxovfdoAbXuOZrUkCGg9+b7LollDVHPf2T2cE1AUEUuoz6z7GUP8l36yfCxE+bX2DNxy0rbfSJ/s+0/NgAAAARAGeo2pH/wAAI72nFyCiB91AwbXRTlsSNSXSnKCim1bj6h++KhS1QnHnDy1VoRaaAXIvJcTdBa0G/OrbSF7xDOo9CDehAAAAUUGaqEmoQWyZTAhn//6eEAAACke7+3JZ/gSF8oA9+B2S/do/inxAklFuS6QYLWNDZ7OHTbJy/NbbOp2nXQ8642HHnAF+n1ka3vT4QV9q4osTHQAAAD1BnsZFFSwj/wAACFJwBdBMlEazxssM89ThBjYYAOKfkWReL1htbvPpyQXTb978vI3UXgFFhgmeUZGFqMkxAAAAIgGe5XRH/wAADYXQqaNXCxsP9jyE7mHensl7ohgBmT3pbcEAAAAfAZ7nakf/AAANhJ2qc7mCgZGzoGixLIKeOYtA5dMgIAAAAIRBmuxJqEFsmUwIZ//+nhAAAEVFCDQA6U602fv5NJe3tXzkZijv5RaR2iznsgMIp9teM0BW5v8jQPaKYIETlgRWoyN/lqvfh782yf42btqE2Hzc7gbyeg59lBwD82l/ZoQSS4BitCgUzLVo1cS09vRls0gQFBNXRys7wQpQ29/cPYNmQ4AAAAAyQZ8KRRUsI/8AABa1KzT9X0xM3POlJXeCcds+rnkxBrUcNCUIIhA2dDpl/ZSAdYyLO3EAAAAcAZ8pdEf/AAAjwxdol0hsadievoRC8VjQ+pjugAAAACQBnytqR/8AAA2CkGCd8OTZqBRLG2orDqmeSVDYABN4LRiDickAAABbQZswSahBbJlMCGf//p4QAABFZTNn/UAnVahLYDvnd7G4KHZkZeszLNOLza1LfwVF6goWH/OhoBO6r09JuMFQUQY9d+byX+nE4+wG4fSN/OEimKbaFDcItivBgQAAAD5Bn05FFSwj/wAAFrUrOLbGxR5+z4YxzSt+23zRR5yRWj9F29wTG1j9WjceiXRRPy5I4jCVagA+/H9wXQu2YQAAAB4Bn210R/8AACOr+Ft4Ep1oI4gRnroIlT4Vp77GezEAAAArAZ9vakf/AAANMk7+lkjiUpLlpxjKV2JUMtEiGnDpv9LAsImwAyJ1cTPBgAAAAIVBm3RJqEFsmUwIZ//+nhAAAENJazXg4aNR/kQwUCsHJm6UF04McOl6ycq9lzWocHfDAZw/X8IJJ1jQyEgfLfuvvtFn/FMeIFnrqyb2c24HTkenusEiAraWLlGr69pytbZZ3JuYWlCefXPI0PYYkSAGDRpa4grNsNEdRtcp3hVOwtF+37SAAAAAO0GfkkUVLCP/AAAIZRSAiZXrOBNvxA6l1GxSMhtSOOfifsp+rVbx8zkwkwwsfQpFedibKYeugQ0r+u25AAAAHAGfsXRH/wAADX4A2EUBj0zAth81zlyGoJUExJMAAAAiAZ+zakf/AAANf7aD3xcVFjlvWBKKkb7uoTCdeCRKy5/lwAAAAEJBm7hJqEFsmUwIX//+jLAAAEYB8nBMulWBlpV5JmC910VItMrG9BL5maQ24otUSTURM3SR48mw/i29pQ7tMSi/5ssAAAAzQZ/WRRUsI/8AABazR86v/J/fCuX5Cjy4FbaSA9SptMnnyUdYFpemYSgUwAtRQMxXyWzAAAAAMgGf9XRH/wAAI6v4XCmZy1W7u1+MUqytgBYJa7EhoUqb0phLIQ2SrBPdK9uf6nzVAGKDAAAAHQGf92pH/wAAI78aznvdt41pT/vYZmF3qwT5WUqBAAAASUGb/EmoQWyZTAhf//6MsAAARgLQ+jUea6xbb96SL4ALWK3XuLvIl5jSb23TWAKVqh6elAAuEvpGW8GlqEj+8qO0PZ2lS8oWntcAAAA3QZ4aRRUsI/8AABa1WPJJm6L3L2slqhbziKbuUt0HupqHiHjAAA4Abre2LAFgMfcE1w2MdavgwQAAAB0Bnjl0R/8AACOsOQWuTx5yROEiKU/5yoLUkeyICAAAACQBnjtqR/8AAA2CRMcodhGsh6wa4+rig+eS+EymVFYo7Le52zEAAAB+QZo/SahBbJlMCF///oywAAAar0cHKucUgtwB25LzrGl0CvIKbk7Xbzrbe74Uv8CpMxsOHibqVCtArW7fsoX1yXddJDVTvlSquB1Ch3D707pBAqAuo9us2gJpj0a5L7gUwYVNA1ItDoyzkoqZpxo7M/RALfc3YLbP8tm6UGsNAAAAKUGeXUUVLCP/AAAWsyyPdxPgWPCFoGaKZK5cPvcEiGc9eXam13WY6O2AAAAALAGefmpH/wAAI78a81r+vaeRB+JkfH/arjqUn21T/IC/HvTV/75ZGhqjKQmAAAAAqkGaY0moQWyZTAhf//6MsAAASBFk6YAdjDe836ICDf89MBQ3/sWOF+UXpGtl+L2Bp2ZqFQxs5VDOtaurSEff3h6N1idHmrLzHgkN/uxe/mAkgPS3kRMIXE7pUG0T0bkVQP63UFZtwnD8JwGcUtMLnwdx02vQbYMJ8fk64NXSq4hLpimBa941vJy3ITau7n/L2e9R+b3WdvR7ce8pPBZmBtY2UZlZUYgR8n2BAAAAQUGegUUVLCP/AAAXTEcV/pc5wAIJ4qnTj2KwvR6mGrTNJ62y/urnQD8NXNSx63nkIXZsBw5G+9U5Tu02cLCiWCLgAAAANQGeoHRH/wAAI6w5BcJ4p/bBqVL4U2ZYo2ANbFpBkcBcY1a8lRgNgnVNmi5ClYfLDGjGbR7hAAAAIQGeompH/wAAJL8EJxLJaZq4VlMfKj0tF3BKC2y2cAVOCAAAAK1BmqdJqEFsmUwIX//+jLAAAEgHu7cVEcO+6GkACtGgEJq1bdbnLOABZLn+arzGatNyXCE2inWvr5Zy80MjTbt/PVcIvfZ2T9eBhFSmUptZ4LZ6eEVbMcDf5n82rCaMEbLfLhOxWyRNgbnprDyOCm3PjOfJdcjCXebaXUzBVcGOR7VagDBX7t/PSkui2F2mj9p+gY717aT+ZAs2xPVj7mRagkGr7KqIfhCJzSAOCwAAADRBnsVFFSwj/wAACK/jBwjnoVUmUp9IR9rLEYZYVqgCxepzwQ9ZtHwbAanZ0SqzAkKC66eXAAAAHAGe5HRH/wAADdXdL2+R32IQjucr69B71esuPcEAAAAzAZ7makf/AAAN1YPCJlfZCpNhjs/jDScnDTZRlMJp9ENqTEJfZR7hW6O8tvRAn7MenuBBAAAAUEGa6UmoQWyZTBRML//+jLAAAEgpk86Ac8ptnji2/N0wzFD9spW2DY+yAGp5JOp9QSoprFx+8tGN9VN7ocoFVf8oMWUJc8U/pjxwt165ySjIAAAAHQGfCGpH/wAAJLHMCW+pb53qteXpUdIgBbQ6RNteAAAAVEGbC0nhClJlMFLC//6MsAAASBC8aAtndSgRdk9YgAIzaXgqPOSbM326rNpn2S3QMqx2k0qwD9T3MkPwhyiZpmnEyUeHVyOKmLBPM4wPot1I929OFwAAACgBnypqR/8AACSxzA1hZA1/gp/NayXIwICDdNyus37YAJOqvATXZ673AAAAlkGbLknhDomUwIZ//p4QAABHUf+Aw8uwAWHTXBKIrLK8GGh4ze+pye9Flzaw7sx+RWEkVpC4hwXl1w36WBvuPbJmPkZaQzDKqyFhPY2/BrXlQHPBM0l6vBPeNECufoPKQvQLYuriupEge160FR5vm3ykEKcfbQE0dkfYBeDPXG2+YWW2I3hVxV6kjk6qRmpIzBV9YbIUlAAAAEFBn0xFFTwj/wAAF0Um46j2nyK6Ytn755sywmgbXoaKKTA9f7IH3Ox2EaNiarfr8iyZGmM+xP6BIuWtyW6Nnwg2pQAAADMBn21qR/8AACOyPMJfMhFI03x9JAvX4tJizxCqzFQ8sw1KV0hGgNHdU1UI2viqpP47nXkAAADLQZtySahBaJlMCGf//p4QAABHum863MPp3hOOeKvHhs9k+8WrHCogA5opkm4r7MybF0i4rhnYMEv/R5nZzMqu4dyiox0gxgLU9Hg3IGjn8mHQQLsfNbYWZcu9k776UBthIjUepdJNxCU/SktRDBblp5oYHOzHchEiaEYQSqF6eYasqqvDuOByf5QmhE8cvjMzetu/pSfny4XvX1WnOjnTk2Z8HuTUegqB5GzBXirtBBoYKNI/ZTuw5ijA8KWSMETPpUPNuTz3faY8H8EAAABjQZ+QRREsI/8AABdMQ84GjplabESgWtitWFqn/PImVFsqn+cUUZp3FUKwBQHOkr9LdKGcjxiN7z1zkL/JSwUAJpvlGHTKs97tveqGDOWs6Ec7QeujxfQUOA0EJL7gZrewcmILAAAANgGfr3RH/wAADctF575myobI0RqpN+TllHlKQ7QG8Ib0XWJgX+Yq0HJiFvcfiHhaoyvltlJu4AAAAEUBn7FqR/8AACS9n1xE3l6Ap4gKZ1wh2khoar39eivdwN8bwChW/XOKnmB+4w6JxxWH8p/mFdrIyzTWpsPhX2qAD0c02+8AAACmQZu2SahBbJlMCGf//p4QAABFZDnU3a0HAMZNPfC9b6E7XzpGJZZKacGN6JztSPkcd0AYmq+GH7tL7Y3HGnur4Maih+E8ePlZCaKVnrLiu1B9dWjUeFbOoFqaGELl9d2nqLBQxoHz+zOGjDih2YQvysFR3NhtFCc2I3ahAnIK/MPe3CbkyS1Y5xDl6JU6/4jSnMvjf+kCpJ6yyfIJPTF2jHqQQN+GQAAAACtBn9RFFSwj/wAAFrUrR2xGIJ8rL2pmgALhu0d3mAGu6JG6/Dx0NFh8EbRgAAAAWAGf83RH/wAAI57ipeGVARRlEdX/YXuNjFhkKQVwYIivyorSJYVg5ZgtGcUUQdQJYsQUiHW6g6q5SPR9c593x6TzDTlIoT217b6Nwl4wQ4JQHNJW1J74cE0AAAAQAZ/1akf/AAADAeZ/4oBnwAAAAHhBm/pJqEFsmUwIZ//+nhAAAEVlQSLtGgEar2GBFobEa5sLxBxM7JhOjZOsuyP/IC1oQMxWDemf/9QMXhp6LcYKlgLZw6+3YNriBM+a+Pr50D+RbYxQTkilaDiexfe4Q9Z0x0+SLEdKbhGGk6ovRM872O0kEELn/r8AAABDQZ4YRRUsI/8AABa1KzdrUfqLbec2bLPmZmgSPlEC8W5JHv1bEogG51/eMC3uTI9npIpSsuIBncgYQnlVGtrltO7AQQAAADoBnjd0R/8AACOr+Fk0cMhc14szSteY8ivKRJEk0YN//ncMRdTqnM1ABDbzVodNayhzhUx05OkexX24AAAAIgGeOWpH/wAABR0wFaMG7vRr62hm8zuiG+YmMYl+qBaQ7bkAAABMQZo+SahBbJlMCF///oywAAAJv7hwnrd6KgkfltmJUgAftng9HL345YNNX2ZmISRpC7HxhWD9n62QUFos7uQOHcpCju9eqzAzldzVDAAAAB5BnlxFFSwj/wAAAwE+WOcXmotHiAWl0U0ddeEZHZ8AAAAdAZ57dEf/AAAE+9H1Eu5XMNhsbIRViAA5s+e4JUEAAAAQAZ59akf/AAADABnJPCh6QAAAAFtBmmFJqEFsmUwIZ//+nhAAAEVj6VzBcnX/MADc09FE5LgVNXsFb3JXdmqONrmE5dAEm50d9/r41vWaz8tCHGA4oNCF0+52H0tzdEZTHdVr9XvkZxGaLPLJfHuIAAAAJEGen0UVLCP/AAAWvEPNHLIDJIWysgp7q32m2pExQqvP8nV4MQAAACgBnqBqR/8AACOxzAnBY8Xfp95rTMnujFJKROw+rfhXggFyZJCtbyTAAAAAe0GapUmoQWyZTAhn//6eEAAARURqIl1MBte4vmaYiACoiIZDnB9A/nNGw0KdsoDFQkPADqvSibPX1HWtQsjBEUJNnCkSOkbZav2dSGRvkXn1NkN/F3wxvkHekwsgcAw3uO9p4558YwpLCXyMztBB3ICuZOEUKoMdY+LmgwAAADxBnsNFFSwj/wAAFrUrOOrnh28Wg/gfy3sxm/ykPhnTikHFrGrz60zMHL/E3cHw1HedWqADZvIkREJubbgAAAAtAZ7idEf/AAAjwLjfwMTkc2G2dgNAS3G+PRwQ3fXeynNGlolfXB8XnVFYJMknAAAAHAGe5GpH/wAADYKQYOrNgQcpbFjNSVUfrCbmnwcAAABSQZrpSahBbJlMCGf//p4QAAAaW1rLLIggZP4yFCVuyTU9O0lWwW7kzwFPWae4L0qk6Jt0KxXzdaFQsXyq1BMMD/2+ei2EVIiyVTgB3y8Z8e0RVwAAADlBnwdFFSwj/wAACG/ifLZGbh3w4YrvyFbpq5wFt3KU7+C/LT1fLbN9m6zuvAsQoMieSKD6XXnMrbkAAAAwAZ8mdEf/AAANh/TKuCUQRm15VrxFgegP5M5WX995cjPy/perVwUN9akbG6+9eNswAAAAOAGfKGpH/wAADS/WVGsAF1AItQ8l/KCKgyoRvqeuR9aB9NqKPaybUudtyoPTfR4sJIpFYV2EgA23AAAA6EGbLUmoQWyZTAhn//6eEAAARWPF7F9HSQBW/UiPDGW5Y+pL1B2NGRQ9GFgfWqQzAJ0Hr3zr927Fax5wOnzPlYnjRF6TKM1hCoHsmaFIUkX58u8B0eW3ufRkfF9/y9J+SckRbaJwlfor56SQRjv1zWlR502OD1xzMbP7L3OpCuGk4Uztwfh+jyl7TXeFNJ4jCkvrs+WbMKh6uJ+zHT8r/CuBgqIRXKZxqljkFf3gFeAc5Utz/lrPboYP+B64N1figViG9Na4T/47yQKXLVSpMb+w6F5MV6Rc/+bEAUV3uOoxQgzq5T7h3c8AAABJQZ9LRRUsI/8AABa7ipRk+9uqyfvPpcqRpuiQrcsxA1sNHGCrcGdxGN+8Aquhx7MWMSZuuT6C2Bu05oYS1AADaZa8SYqRpxNYLAAAACkBn2p0R/8AACOr+Ft2msIKj6xMpnx3GIsF6Ps2SnEFQs+TwntO7sHOSAAAAEIBn2xqR/8AACOuXjOIowiyzxloeqiAUtONMvabjj+wRzIlvMyrFuRaTTeOqF2YPMrx5/xxdABaFafvA1xII491GCEAAACkQZtxSahBbJlMCF///oywAABIAZ1Fl6izO9mKe9cmEHYbH6kTaavPCGL6Xm4jqiVUZ6K0s9T/d5NGXW3d14zZXVHlImXUI8Bh/6OKKkApIt5//l/Akycq1txFfBtWCyCLGUrQPQOpHa7AYeJ8kFEtu7YYXg6ayF5hkYB9ahE0J/pZ6YZyEHNDmGPktJVMhdHrIbMT0UNyjc1yWcHGn60NUNBpMXkAAACkQZ+PRRUsI/8AABdMQvCpB8YqgnmeU/U6z7s5w/IARgANq8VrWcAD130C3tUpkDnFnrbbjesATl93ob7IrCEyYxAc2JT7XnPzUWE3pLn5fC/1Df1A40Gr46/us5ppVSLXkbKWVlYoM2DJTKYCP9KUffmyx49oB5PBe8D9i0LSXCODfipN/x0tIjYdLu7ikA5qyUE0635Gjq5Ppn+bdXHugeDoZ8EAAABSAZ+udEf/AAAiwJrOzLusAm72yNHihyWfuq2V9IbwGK+M5wSbhiR/qAWiL1BdM/+OgQkC6JcxiOx31ZNXCFhGbVNnep8AJr7B5KrjL+tU117pgAAAAFABn7BqR/8AACS+6cGrmEo+XnSQG6eQjeolWWKk3ESOnLdT1nJLZCQ7W+1M4NjXdESI0O0KslqC55p0XEwJfnsM/D4HK4RvKDN1f8xObUywIAAAAItBm7VJqEFsmUwIX//+jLAAAEh6b0IhwxLl5WL72PTlVFEk2XZADiquPkfWDTrzGcoGenc8r3c7bM95YCAQSulABdYZEte1KWdopPoVqta9Q8r5dbyA+ybZzpxaTKYHePw3H/h91cxW52zS9ChC0OzR42sTYQQOJhofh4JSjDSR3Cvha1Iu7CaqR3knAAAAK0Gf00UVLCP/AAAXRSs3Ygg4eK/4oVG/p4PgDcuSC4t8U+Y1oNInjaI/RgQAAAAaAZ/ydEf/AAAkqc9nWKLjU5Pxb9eVkpZ9cfAAAAAaAZ/0akf/AAAFHT+bPTgGKszJuDVd/gSYjAkAAAAlQZv5SahBbJlMCF///oywAAADAAd/1vN31eoML+rxp++cqCKbMAAAABRBnhdFFSwj/wAAAwAP5uPkxbGasQAAABABnjZ0R/8AAAMAA8sUe35BAAAADgGeOGpH/wAAAwAAAwGpAAAAWkGaOkmoQWyZTAhf//6MsAAARgL3/r0vIEibQEsrnu4FGqjZ77KHc5kjguFqbY7pwa8QzEtoaXmlMJijWv3SsteC1SkObi3Tr2JfJWd7xcaP0Ln4zmSjP5sD2wAAALtBml5J4QpSZTAhf/6MsAAARiRtuUoxACPavFyya3m93lQadvhf73Zrf8q/N3X2aWY/pbaorhKJJqlDPRpB5h6MF19pkVCtItvyMP+JPqyTa86qCAvJzUFLqclTNmEsCgXLNAkSydwnfEaCCXdMvoaVSbkp6mag67eqvU6o7kKTFD+HUZXiPSFh75zjb8e6fp1HUlz9P+rTu9gVdqRAWCcpavFcxLcjfoqFquje3gMmXf9SyIGwv9i6x23gAAAAVkGefEU0TCP/AAAWu5SBhX/XNuv9pMICYnluq0mS5VYAL8DEcAwB/YAW3cadIXEdejypuJb7HaBaeRtrZExyFb6vl5/KiR5RQmcHUKhyAW1ASP6c473BAAAANgGem3RH/wAAI8NHG6k0TmHO3sAEkI02fQiZgPWmF9hZG/N2M/jv16Hf15isu5KRFGmXHD1NgQAAAE0Bnp1qR/8AACOZFCtcZJTMh24P2LMPLkFsAEiiAvG7pHPoJgTApkk1cXrrLfuITEI1Ja6SZO4qLPRo1oGtxYtw36+nbbfIQeEQwbYe4AAAAJ1Bmp9JqEFomUwIZ//+nhAAAEVFQYMIgULLrLJ0w7tTYu/9vqMANzjql+Xuw90GqPfIoV3BoRVx3/gUp83NT7JGRXF9smApqKAw3sJatMqTIo0r6p3ZMWpGxZYeF71ER2k1GXY1RXFekY8R8W1im/vnMGa6agdywkmK9dQBru3XAkkrk1VgIIjeBjnS/ykwuE6UVtIEvas1IsQflGPAAAAA4UGao0nhClJlMCGf/p4QAABFN2tuXxcAQsGFU+TPIUUcifXkSrgCo5tS3bs3jzJAzCFNR1UKuk8K2yL111FoxtfYmkSNGYgsfD25Lj2XBTiSUsQeC4D3ps8TP/ruiC9ui6r+zKGt9Wlz/aqKBOKnGKeUKbbuZUqzksb/1FYu0yXhTr73sSQpaQP1FCepAEhoAqDY8pujYRHP465yeRHiAw9BpuRl92suCJXM/IAYGFRgbv6CprE3FrJo494ackPvETUE/Jga80AXq0g1pR/aAYQFIPTflX0rmuEhKijjm3zaIQAAADhBnsFFNEwj/wAAFrUrOMNQ05k9sYKHMLod+6T0LVqSNEDWlvb2+R3f2TvADOSv2zy3ZwBaGT/ZgAAAAFABnuB0R/8AACOeymEIsRQ+w85cdNjDL8H8WvoRxCoXTtgM13qT1MO2xFQjrgciefkrNDCosQAJ2thVBBm2ND1rpuAOkAspK+scrXnc/Q4yQQAAAB4BnuJqR/8AAA2En5fHA1m3Fep3U0lfgATJfMQHEBAAAACPQZrnSahBaJlMCGf//p4QAABHlmCnnq+FcAR1PQY/0sR71IqJcqoHXySJOaqWjoNiTjz3Z/he7xv2Cq9vN/35gm1UvtRTyNrBrVlsPMQtDhIw93mCPF8YRx6qHCrtJaYz1mLTIqfAc1CQrSNIoigMaPbVNOezEWn2uY8cMn/f/ot4lp09uZnOml6DEFQO87kAAABDQZ8FRREsI/8AABdMQxacQakxheQP5UZcwHr8yyy1Pl4T/vx1Tbjvx5yuu+4XRpVVuEALSRmbY9tdQ1l4nF7weB1twQAAAC8BnyR0R/8AACOSvYhZ7ucd6T2wvuF1/9GZ101CQBrVBFWpr1X8vDDK0/kUzmUwYQAAAB8BnyZqR/8AACS/BCcSyWmtU5MgS5T861OWADqLUO3BAAAAZkGbK0moQWyZTAhf//6MsAAASBC8aDLIBIGX/cAv8JCzksvd7yCytJ7R+gH0Ym3iodEQiSuIp/R1Equvkk7Wj7XTu/3zTpLkcF1dWgNUieokB5mkl200jFsqMQAofISOZD/8DaH5FQAAACtBn0lFFSwj/wAAF0xDzR9Zz2XyYhj6AF8BUfP4s849xdY6nJgvxKZe7+XAAAAAHgGfaHRH/wAABUBTRA0ZDrUgWms7acRP318Xkmm2YQAAADIBn2pqR/8AACSuXjOB0LmcEX2dkrIpJe1258M12z8/2KDq5//DWzFQWCC6SUfYbChbbgAAAIlBm29JqEFsmUwIX//+jLAAAEgCzwtgs3UAqrtV5znSqNiE1lA372G4sQjueeKCaOBIvQoKnf1wKmtGWUEbNXuM6JsGRxbdV2rYoV/RWrXAvFjzj6NXTB1W0Mo3hz4sEfX+EFQAJ4oS8GmQAMVpPvcNqv0ixFKIPmjpdneErUT8/S5VjQ7mQ7X7gAAAACtBn41FFSwj/wAAF0UrOXNjPWdWqC+M1SU6b/QRwLJ2z6xLHf9We6BKXsMDAAAAGQGfrHRH/wAAJMMXaKmlU9UMi5qCLHqBg8EAAAAxAZ+uakf/AAAN1YlK6RBxtTceXN7aVtJLiT3Z9la1NIjjw3hya9JwsoR20FnylUirgQAAAExBm7FJqEFsmUwUTDP//p4QAABHRQg0AT96l1KVXxkGH0DdiP7ZarsN5tRIkf505PL3IiLyjSVeyodZMAITpdwh6h4BYdGxcb3zxK7wAAAAKQGf0GpH/wAAJL8EJm/2kcHAGXD6b+RHkFxwpKQfs0MLGriNTWxSZZouAAAAV0Gb1UnhClJlMCGf/p4QAABHaMZ83izJRVfbIZAAAubk3wkuFtb48qmLpvbvUr63xoRgzifIC/I+dgdNHiAvSwHD43dToFRgcrPH+uM3iX3uJASXZivikQAAAEFBn/NFNEwj/wAAF0NHtw230KJ+bgMn6Y3TuM38fzi0+j804YXmVgAE1M+4rVZehOTxuPO2ySnnZfkKwQkkoJ/UgAAAACQBnhJ0R/8AACTDF1KENYVvwANU1/li9rVQRZwvMx8sOatp73AAAAAoAZ4Uakf/AAAkvwQnEsnDCGRC5oHEAna/dqH8MKyIjGZEyKdc8FfHuQAAAGdBmhlJqEFomUwIZ//+nhAAAEdFBZ+q4LrH0ABZCgVzMqcgpP/e6rVfNV2NLS5HfwA5L4PKr8gp+sgrxkgzWD0E3RtLbKIGAJMGlsLNdLRWkGdJAhi5B26Qwlha9XEScIwwQ2nFd9PoAAAALUGeN0URLCP/AAAXTEPNtxV0Q1h86toHNqtCjiresHUBQAHtJJVt3U7IfzSrsQAAACEBnlZ0R/8AAAVAURZv6rI9Qu8AFdWjKjO2KPn0NXk1ba8AAAAnAZ5Yakf/AAAkscwJbz+3N/jIMiRA2JD/QYM7jbM1Qr7UythO+7IsAAAAW0GaXUmoQWyZTAhn//6eEAAAR0RaIl00PB8ARLV4a6F8tWZrbtQOL4pH4n1YnQYBHoZocQZP3mF5+KPyagAWCbxbxXRfjS8Qs/eWsMrmnF+U3WAWUsl0TOP4ii8AAAA8QZ57RRUsI/8AABdDR7cM1YaYAAuppAYHxXaot9usS5UhfWU45W5O+v0rFkXxjAYLNJsnNrxsouutqdeAAAAAJwGemnRH/wAAJKv4WdI/AXP9HhVDoGymg9zrD3b46GpsVvLcqYOJFwAAAEUBnpxqR/8AACS/BCtdKAAHFKeh7D1+QfVq69oByS04qff9o0aEzX0/aLCbpyfPagQSiyN/hXSThswIW+4XlgjXcU0ersEAAAClQZqBSahBbJlMCF///oywAABIJcVpAYAWAuazXvFJyP2jWZGCb1nsKMkQKQ4tzG/7TGXyphSqVdPKm7AlFL3C/wyVQzt2jSriVJKVEcFZkZ/71dqvIbDHi40h7/Bj/2irkpn64JYPNR3lEvuOUkpqsvpV5TtJeqtYoElEAStKu5G2lNK/55gkd0tAsAF4QA6+CFCWFgM1ttWgpVBrGKCWa+zr1LhtAAAAVkGev0UVLCP/AAAXTEPMqX4J8gCNFjROlntKwpAFPantAwMr45imd3mrWqjcg5kE3FhEAjvwaYnqTgVSGVgyr1DY16nQJGGxmtyfjVWm4G+e2eXmlAK8AAAAMgGe3nRH/wAADde07/1T/55FFrm/KAaIzwzsRcjBh+Qea7FJnpUnTCFSqjZ5f05RUQWBAAAAKgGewGpH/wAAJD3OSYElJV8FyRwfarEqiJ8E6eaaKVE0xFFr3+l4HNDUgAAAAMJBmsVJqEFsmUwIX//+jLAAAEfyjiM44HoAE89kPGFuvkbkTrvhTCKmkqLeR1KZ32vv+3CTIcL1Xo3hdaq9/PYb4URqmSHcoiQM6Wu5GKloZTiDQ4NQo4POl+dxs3UIbDGpjgxc/i44KrvRkRrnYH0FneqmC5Xk7MSaH/GQjmP38NYazG130LV+dSni1VlfmLnKFioe9C+gsSzL+hk4Bh/yyjiXr1l2GIOPW9YMYP2B/4ZkajixFPoHkZAAletkNxa44QAAAGBBnuNFFSwj/wAAF0uw/vpM1AwBeilQ3XYbpbwA9f6fPOoRJrYUhPjSg2AIc2C3KIjtgjEnjghlMJZHqIELG2g5hCFRlc/gKZuHjXW5cALIRt4wAnVFizn+jqv60hbG04AAAABCAZ8CdEf/AAAkq/hP/ygECQhuozogzauzKZmlQJkexqZjO1UzE4+b6TpqogEXoGgICjPHz0loB+Ap4fqMxpFkRNpxAAAAQQGfBGpH/wAAJDyYsqC/33Tvg33e+dAWOU/vxwCiUAyfos7o2+DM5X12sdoESrqCasbbExnUMSng7TNbNzfLzFadAAAAqUGbB0moQWyZTBRMM//+nhAAAEe+K6sZ9ZrQEACw8BjtENMbS3+RWd2pPyePv+OsYuwgQfzYuek74x8NLsmtEjYTfrbuoZWfU1zkHVFg4hNAEEQfdRenfasN7IjR7b6LL9f8FqiBpCp3BLTwhdq4Xr6XJgEunfA/2zGeGFyB6a/zuH7B9nEJ+0zVvrGnkain6C9OoPFy1msO0NGAd+w7W8ACKJEXYAZDuaEAAABfAZ8makf/AAAkvaGjygJxHy8sF/K78VBt22gklfHy383S19WczEL0gSb+YNQyUh8jdR0l1l+XzRGwfo0m0k0AHtZ5Z9zItcOPOpbCfVfFF45udyn40KZhxNNjl2VqpqUAAACKQZsrSeEKUmUwIX/+jLAAAEYC0OCZdQjZ98PMhGkWh3e93Pltueg8qdCzN4PZXKj1Kc7OAm1XplREuWXknL1y5nlphASD/NPwKBYu7K69EgLz5KeZVnzwoxDc3lCEkVrgK1wKxtx+bBFgkMsqL7knSntxC1Q3pe/0ARVEhRPfIQluQ+TtoeNXpIkuAAAAOUGfSUU0TCP/AAAWvE4C5TrxtDZ8BSRoAbi8cJUKWbIJHB5wl15s13lphR9+ICDtDh3frTVc81k/SAAAACUBn2h0R/8AAAMB5CE8cW0PXRdWwgKSYlHfHthKByfE7ho40TghAAAAJQGfampH/wAAI7IrBxW5NTLBz784eh4H1bOBeL1Hv7KhZbP/WLAAAADDQZtvSahBaJlMCF///oywAABGMNuvsuJIgDk26rr7Py+ij3xszgH0vRgcubjHVDJYC5CFSQWpaOPYgABa46YdRVL+aLM2Tcue25eVO2VJuGvZ3tfX+c1Le2uaNSR22kr59fBvF/o64dgINcNsgeCWPuHM0Pb4Nne7Zod5EgGJOb103xHG1FO6YK++CtgCDaEWD6yDkGXmOSrZbwzw7bfZJR3fugGdAszN0j+SUfMpl86u+rfqC94vduPD/UousycahIekAAAAUkGfjUURLCP/AAAWu4rNaxqt+jfrDW1PP2Vp7qBQAlm88FOHY7WYgkOllLNxagAkul3AdKVgcsTE9vd58P4byAFOd3kX4jbqwiPv9Hgo6VOAA7cAAAAoAZ+sdEf/AAAkwvCGv9XsN0kxk7Wp2PnyWiEftcHnMT7M2abu+X7yYQAAADUBn65qR/8AACTHvxsnx+8ryHymQy5w/tTrR0anCoeXw3ET5IDENeceq1gsgoAP3QbAFi62YQAAAGBBm7FJqEFsmUwUTDP//p4QAABHum9JN9yIgTHYu4QE0AEtMiGaoX1s9Kzqzzx7Iq/EbDHHXy489CG82dLxYFDRuMCFl4wHZeb+M6mMJd6SMpgGLw4rtXvmh7ft3H/W5JwAAAAjAZ/Qakf/AAAksjvBZuI37Hcn5g5tBi9jG3lo71uEM43/T2YAAABEQZvVSeEKUmUwIX/+jLAAAEgCz1d/9am7qncZX+XbPMAWn5kLQhuvuBMC8dZt6Jed7puBrCc2L8VAESmTXsUi6o0k2MEAAABFQZ/zRTRMI/8AABdFKzjrNYAAcW0n6jzRmFplUodxripF8tjnS/QMOq9905NMLCB81+nBS2jXGnvWCbDg3EK/74FwU2SYAAAAIQGeEnRH/wAAJKv4W3ggABvz06is6uRvxNKUA8n1wTPJMAAAABoBnhRqR/8AAA2EnatirEc7BZkHulX5Yq+V8QAAAG9BmhlJqEFomUwIX//+jLAAAEgUXPbzqglBAGWc8yK1/I92dFXp7FKLCbUedwwH5yOLq0JeXDG3kVxA+hrQwffjmiNJjibOUu51TGoKkDyfZKcbQfSotMZCRXPQ0yOl8eJnJjqDaInfDTFt6OIkQMAAAAAvQZ43RREsI/8AABdMQ83Zhxe0ERUCVQDgAA3R8Tx4LBNgK078MQwDJ/M8CzEvTt0AAAArAZ5WdEf/AAAFHPJE6VnKeQYTmEjksRGFmsoev/yMfV6sh3PPLo7SrIa24QAAACsBnlhqR/8AACSuXjOBy3FSIVN4HNGjwQUmWUj/DhTd8KyQ1UWK/Mmfu4WzAAAAZkGaXEmoQWyZTAhf//6MsAAASALPC2CzdQCDtXRfSbXklMN9JBQJn5Ffi6XKqKom9UgJUiJxO00iYs7DzhIP63BDIrrCl6Liotat6jmE5u5I32jX3De6zlOQ8AbrsvtV1gh41euoWwAAAC5BnnpFFSwj/wAAF0xOAtPl/XK0G52qQABuon6bUJakJRbrzOh4d7kCwADMKruSAAAANQGem2pH/wAAJL71PhzlUOIvwpKy3B6n8k+OMJ14QgK0ZT/7YAJpSYzjMIVo7C9C894OfoOBAAAAVkGankmoQWyZTBRMM//+nhAAAEdRCVfeTc42O0/Uugi4kDXVVtGM1nrpaZU44d+axR/beBKYP8LgAhFcwma7CFHJEAw8ZwJWTmz/p3vKqNnSqWuJ7+jxAAAAJwGevWpH/wAAJL8EJxLJaWsjG/MwEeBs0ncXfDsjdM6TOEKF/7INmAAAAJ5BmqJJ4QpSZTAhf/6MsAAAG07eWAEilT1ClzkP9wLt1fKvmi7ZvvFzfNAouyEjfJuYcSCWm9uZWHeF8t1JlxcfwrNamYAsgg2eFxyEcQwmX3IuxTppsVjO3lJfVSJhryHcEjkfFyO7hbCL++AUE1yNRcZ8x5OBZL8Ha6heLuuHtEeK3iu1cmTk2bNBJ4WVPeOCdYMYewX9AzO34UoOeAAAAEFBnsBFNEwj/wAACJMOCgKFtmHR5He8k7HyV26re3aBPTfLeOCSXxDqAJJhzpokmPR28J+WBuNvkWUXHeVU3+qeWQAAADABnv90R/8AAA3E+Nq8a2fG3vsr4zA/uAN0Mqj0Mf2tkNjcaI0+1WjZEcRQueXtm1IAAAAmAZ7hakf/AAAFMhFfooSUQacaa0L975mY2qYB54gXEsU4yEba/HkAAADGQZrlSahBaJlMCGf//p4QAABHRSXQdyClAEdT016aIysXLXx1d3GTvM6U59xSzdbwY7jlgTo4c5hn4F+YYHy2YdjgFDucieIIYqDVj7l7DCdz0fp/0gos+pB8+uOLWWp2AhxWavsOD1+QrGvWyGcUDq5fhXnE5gRGG8sCPKAWBi73Lux8gS8+TNHWnmMJkn6kFxNNC9+DCkY82gnJCDXg8FykX1AD/z7rdu/QkYiulzwmxsCPbQ5Zf46RHu43YoaiI4zeJ4eAAAAAQEGfA0URLCP/AAAXTEPNikg5pnRQK/jP29IxVyNyvOK4A2M/DT7PP9GibiuB0FqqoRR9S03iX+2vB5+jYbHRBYEAAAA0AZ8kakf/AAAkvwQnYbv0Wu9hHjjrXUxA38M59sY5nz3/KVcrtd6H69PsF5RgJoanfPwvcQAAAM1BmylJqEFsmUwIZ//+nhAAAEdOYLlNiXkJKAAXF23xBAWpumtwX4qwqtd5foDBbPJAZyXftWFyLSieT7qM8OOF91DTOxLagceb0dDF2HLARAUPKfoB52fCZVOlOy9l9HE2OC+cPKgo7GqpUkhAI1y2eefx7+KwVP35UVJOrYxIpUF6wyYGtB0dBU5Ojau1hf6qwpm5I7s8vChSGSCa23+g1Oe3vvRCxHtry/IPYIe75seLhA5SqYjJbnmHll3R6BfNF65hjSLNmdCXvJvBAAAAUEGfR0UVLCP/AAAXSaZ09k1y8v25uroqhSMCfuu0dxN1/4ckAn4EtD7bo69aVLDOIkBkpMvBMmA8X7cSCxbdAy1XUscgkoABDTlG+K/iAmixAAAAQQGfZnRH/wAADctRVRsofQOHfZRmoLS7DJ6vejDJeOZcqYM6nvb9R1jfchgKAB98O5ptJhIF/2ly3J7C5ZYxYGpAAAAANQGfaGpH/wAAJMF5lS+VdOXoGkC9n7m3/6FJcGh9PhcfUPQnU4+Lc0DyRTaKtLD6PCDRWdCYAAAAmEGbbUmoQWyZTAhn//6eEAAAR0V/1uCKKS2ABPzmZxPan/P22evvZyNcmT8JRK6T4qq1Y49UhaldGacIUbhsqRgd5akVxNdLlfTRYg5zy+DUPGSMPlInFWihIIrBzRX3pwGu43wgq48u7PLi9rj3qC5bHn8VNOCnNqgncstlFI5HpJVBlu/xlbZ9AyLjPBbtaSrGx9AJK6zBAAAAX0Gfi0UVLCP/AAAXRSs0OmkR8NOSABF606PzvCU5XVvuVMThUs8loFB5DZ+OZd6zNzKM4Xi7gREHY45nwGf8nGaPF2PQCY2rDQ4aXwMSGC8+GmuKINs8nekMfE/0xW04AAAAQAGfqnRH/wAAJMMXZCfhYtLf9A9h/DINz4p7sdmO5mecZ5YirZ/tPWAcMXiYEXorGZqMIys5XdE0pdjFDD+4O0AAAAA2AZ+sakf/AAAN1JUtDTtS7SCpEgfIA16UcDp65UDjh4eOH1NGcWv8w6lu6s69sGBCObL7s7s/AAABDEGbsUmoQWyZTAhn//6eEAAAR0MuEcAOi6mbTyNsMKtOAEshT+JXcf3haWP2Vx6IrmlxaPkfBuTSNpkiDFzQKnxfxsV1KNd38K1L/eR/JwzDXeGvHtECaVGMJULuH7F/gZFsrOt+Uqymm0UidheCP7oEfuXrHZVb9ceJWI8hRjkgAgM9+c+yTMRDu2B6VYS7rVsxCidQR07HWsL90FAqYiWijqzwNbrVtOBcrFcuVZp9+Wz/rzIs3nBC2cCkL1fBGhtqGx8WuMjWBgALqx69FR/53Um27nNZ/hLe87vdHF4zs2WtoZOZes9TTkSfC76mmXSv65dy9akoYtTmVCKO0MmAYvGrAnRnHIqIIXEAAACBQZ/PRRUsI/8AABdDK7UE8JqceAsAPyFGm3YlH75Ru6f/R887W29PJD0XaTFsR9waEYF6qdaDTgmhTjWIM5m/Zf0kzgylqawO18OVXt9E+rN6SXaB+JAkUNvVp/ZwxPwBywYkz2lnl6DfhDEkKa2nhchfOzPI8e3UVItP6ycBVZ2ZAAAAJAGf7nRH/wAAJKv4XEI07mlWt1sxg1HuihXv2ZL6Su46bfFtGAAAADwBn/BqR/8AACS/BCduJ8K+A5QRUgTUVdcG7MNA51NFJVLDLjzzaunHQMxQI7dXBvjbA8lQrYWEh5chCYAAAACWQZv1SahBbJlMCF///oywAABIAvZZBUAOecSdhXWU65uKH1p+D1bxEDPJHItC5mQCFrIdEwurkqbJCh4JWXlm2OjVnvvBzpsYVDmPnWx/+gjLWXyDLxk4VlutWNzJt4xrDWd67N9gymU7RHUlS1kFzQ0QXMpvWC0hMvMXblMFZbgrx7lULlduatw2xJv4D7p52+K17zARAAAAPUGeE0UVLCP/AAAXTEPKjoHrsYiI82dAFh1jUVyX4zZFgrPGZRwS8C8zjkSXC5B+fS+FgBEy8u7Payzta14AAAA8AZ4ydEf/AAANzgDTq4bBqZL78YgBGQB/6v3t8vO/Qf0AZUkRQ4Pt6aDxPK5misfEM2DbFwKzuYHnvt9SAAAAHAGeNGpH/wAAJL8EJxLJaZsrsAzBXOAfXfHOra8AAADBQZo5SahBbJlMCF///oywAABIem9BnazlSeABzcI3XyG5k98vKN0by0ZALYoN/8grTv6CtqG0kCJMIsUSn9UX1lrlORG+eyI9Vc/NYAzYfVLKzd5ytvSyvE9/w5R35/twD2/Zrw2ql2FZ0fBm/E6EwEbybTSyqY4EXAie6LjHjVHAnI378je3H/BMXjuprr8lBEDkPX+osCTsj+PI59BsnBqqsRkLo/KbnJr8jeu/jHAHD06qY8fMl4SRyI47bQc4ngAAADpBnldFFSwj/wAAF0U3qlc251AHe9ClngCb6/OVtq7eRuFmwDEJdXTPXoJljSBzDB8oNrTOZNsnMO9xAAAAIwGednRH/wAAJMMXaKmo6MN83mhGWmjQI6ZgekYxc2bh+I9xAAAAOQGeeGpH/wAAI78fjZXcGavzOsh9TqVccRNeijmRB3hZ9MAEprk1xWF+53tNH1hhU9ZXZQ5y11TakAAAALVBmntJqEFsmUwUTDP//p4QAABFRGp1f+Kx2v8CEWFv1Ui91LOPVzzcWgAH8353KQWGFPUl53YHaH7fqfUYGEf62brR5EEBCVgDYio05eSh9mcajQjpcqM8GRRwLyWgpfJ6Pn8juT8yssFzQYsn3Hm+HxMBuIg3rkxRFsjl+U273bwlbZze+3lAbLAsUAiiZofwIJAGcZNT7Y18/cO4Iy9Digw/pW1RzszBBUXONXbuiUNr3FqxAAAAPgGemmpH/wAAI64zQsChGNd/3ICNL/odm9QcWvhBiUEmrD7LKXwvwX15DsYzALzXl0CktKglx+1sznY6rFqQAAAAgUGan0nhClJlMCGf/p4QAABFVKK/We9WgDDOtBT8w8p2TyJKsdiAJM6NkrQepwwpB4ZmthcqjclwXG7WylHaVmuF9BP16tVl+16xF1iKcd/diHs/lNV7vrKMMv/kyTLLnnt9bEt8j/NsGdiLHF/Hi18+TuGorUxyGfQf+B3YfwoS1QAAAH5Bnr1FNEwj/wAAFrsnEB6gBGPhvl7etgMTDgKffyOzrt74RbQLwTpZPsETF0mW0dPLY8QH4tlY+C7h3fEVExNo5LQe6qD3NdRMB085hu4aQd/Z4worJi6v4MTX14690LeyfyIzLcp3kUsUpIfujTxFdnfUYnzHz/Gyr/dO5UEAAABaAZ7cdEf/AAAjnt0inge5csibQVKQQWD/lBRvpICkjqtH4xK066R2KkTFShhodcd+T1O3j4FlGscXZFvACaW8S1r3tNkEq8WQGRwa0nNW/MzNyAN/SbghH2pAAAAAHwGe3mpH/wAAI7HMCXCTyVp1hK6f5HcmOQhNAzj0MAgAAABqQZrDSahBaJlMCGf//p4QAAAZt09QCxd2147ugHAFVpnKz8iZaNk0KSanRWJuWVOc46ZsVCc411IHxGP2XqtFdLILHcc/XXWHdBfI+LgHWfaayFs4geJeaTSYB4+8AowvGAiJmEX5CoEAYQAAACFBnuFFESwj/wAAAwMlMc2jt5ZxI7n9DzE8Ejp5FAXmtmAAAAAQAZ8AdEf/AAADABpcJ9iVgQAAABsBnwJqR/8AAAUdMBRcqdwymS/I0p+HmnCa2YAAAABNQZsHSahBbJlMCGf//p4QAAADAWI2reIIqQHbgMkEsiWoAqmD0Jw1wf9XJHjAucNDr9bE7AhjKCDjXHsMmBBdbNd67ecfNqdX5+DY3esAAAAiQZ8lRRUsI/8AAAMDOXyF/C7zDCdjhA8rydBoiw6J7d/BgQAAABsBn0R0R/8AAAT4W3nr6NhaLyVwTm/Vr5wi2YEAAAAXAZ9Gakf/AAAFHTAUXKktlVoNvAyv+OEAAAA8QZtLSahBbJlMCGf//p4QAABFRSXMunB/svmwTEgLW8DbEEB2Fx4vqYXoHPw8DgCPIT34sc2CvqRD8sWAAAAAHkGfaUUVLCP/AAAWvEPNtxYXtd7l3W3g5hNS9UP+OAAAABgBn4h0R/8AAAT4W3nr6NhaLyP29i04oIEAAAAmAZ+Kakf/AAAjscwNR4ttlFoRB7r+lLq1CWQYxarH86yXH9S+mDAAAABbQZuPSahBbJlMCGf//p4QAABFUQ4+GdCtD5abPZqAnQFwk+2h4JZarQsfe1GMW3ZgvUakfuKoVYCEJ5SlP7KIdm5ys/20xq3YPzkAOA38PTJ+/s6NySxbZkC4gAAAACZBn61FFSwj/wAAFrxDzRymlbC0wcbxjF62dZyRDYfJRyaCYnE8GQAAABsBn8x0R/8AAA1+ANNhCnLyKQIEfQw5Uw6kRJMAAAAgAZ/Oakf/AAAjvwQn7gcmGQtvGMOfwzHlrxV2gt5EfBkAAACVQZvTSahBbJlMCGf//p4QAABFRGwuQFDEw6nK9e/rFNwVunluqr0vX1xj3/kUvfjXIrma676wBsfQcHBcTbNCbI4kYw0JNMPJP6C87OxUCImPDwFrTRC1f5r7Znq05ctM36pdRdmrfXxUjH/sDKGHncAiB9U4AuFufK3ifULs4iY+ZdhENZV1UeXCn5CA0kutLPBd1tgAAABEQZ/xRRUsI/8AABa8Q83LuurBCr+bJ+CIbQBK7zYHAAfsUI3tq1KJQhACn0psGfd6BtSfdQ3WolkRfzJs6lLVmVxhdYMAAAAbAZ4QdEf/AAANfgDTakoLj6Dl7/liBsdEVr2zAAAAMAGeEmpH/wAAI64x0aBrT+D/L8EyaojcL8eWU5rHZ0HECqCylauXg6aHO4zeoHweSAAAANhBmhdJqEFsmUwIZ//+nhAAAEW6bzrOsfT326z5PmcgZAAJ1l/BbIlUXwuiYifUXFcHvpGrnSp2kRUGPn4p4y5JoWt3mTl65jNz8DTa4HjWkAMhES2crC3lZhLa60CJKfJ5HYHJ9vKJEScmt1Th9b3MPfihWahd9efHi1VGbe3Mc8X62lRdlPXeS78Rp26XjbEzBcAmLcUoOok8JJHpP4NUm83hKSHGejKSJmXCJFsRl/g0JMyWQRJ4dlTU1NfrVRDBVaUpN24uUq6zsDzrWqnS843oBjtHolgAAABZQZ41RRUsI/8AABa7nJeo3smW33gnGFtQKac3QLJMLHyPxKlJPSC4VTYHERQ7HiCgIznCdU2SjhSlHxbgAG6LoRZh3gBdSO2XjO+JobVKGpPsv7RDfjJPsBEAAAA1AZ5UdEf/AAAjq/hZM7guINvwkr4UxU5XT9i9YkAKAphVvroLijBepDfVLGQ887l/EyKt23AAAABOAZ5Wakf/AAAjsehhTIoCWGkx3sQrkxh7VAflSZpkIPwICXjHZj2E6bSmgCsLUx/oUDUcDUidABOpUH7nd0eh61lmknWhgDqej7X11ehNAAAAX0GaWUmoQWyZTBRMI//94QAAAwP3cUVMHkVMQ8QfywDy9eSXt8PVE+NNmVVqhRKEjK1LQY/rNVL+Av6q2gyIceLcryHDzgexhnHAB+dNFsHfMa1DyfKr0Gher7XmpM9hAAAANgGeeGpH/wAAIpk2jzjrnu1deazaBCt4/lry1L6IbfJscQo+7GYLg3F/usHefHVPaQQ2/6Wr3AAAAWlliIIAD//+92ifAptaQ3qA5JXFJdtPgf+rZ3B8j+kDAAADAAADAAAVt6RlhkJ0L/JiAAAFfACyBdhEhIBSxvCoEryZ/DzKoAFA1BMaCRVA8LGM7KfS6SzdnZ3RRpas/rMBfKBl5e+FgHf+yrM+Ry3qqtfSJMwkobKj/wnAxMBpYD2slo60RD0X1BplugjpHoLYSzvUQG96+RQkibMRK9nt1eo52LErX+ZSlOQBISH0CD9zUY6HwQr6JeWzfnypnrLsoxbTtCgd21NP1yYR7w77uXPDY/yrXC3Lrojn/bewrVowR6wfZmUNGiZZy0coPbS5ABgR8FpgXRY0p/st/O5ZNaW14W80ZEN45e2lil402sq4stIRqbiH5etmRZthgCdSStETPmqv/6dFXdHzjALMKsa2BtG/JM583CiGTIkN36sTyj3S1/Z779QJok/IB/47zOamcEvqB73G4u7XjIeB5sAAAAMAAASdAAAAakGaJGxDP/6eEAAACeuuO3BAAOdMxxy6VIl8Fi9eJv0fQPCfGcDfj+NgyOmGwRY+va/sxgDGEg8fVZ501mzb/wUVPUv1zePBpHjhLpLt9wyQHtX53HBbOe+XyXtC1f3WfjVHxt1PF+Ou07sAAAAgQZ5CeIR/AAADAzlzoXHkPIOTX/XvNp1aOkeJ/UyGF20AAAASAZ5hdEf/AAADAAlrEJUJRh63AAAAKAGeY2pH/wAAAwHk2NkmLReW3rN73IFR0A5I90VyZL5CDlc5j7If2YAAAABPQZpoSahBaJlMCGf//p4QAABFRQXvV65gBmanrY3YdP+SsoAh1ZVb9oBG/wKjzIENPdNJMW/5sypdf6CI2pqKchfM+h7nNqlIr95R7xmDxgAAAB9BnoZFESwj/wAAFrVYVYrO8aMMEby5XIZLEsYwgDUhAAAAGQGepXRH/wAAI8M2IdxcD6scLCAhvFNzsW0AAAASAZ6nakf/AAADAL9J4m3w1m1BAAAAa0GarEmoQWyZTAhn//6eEAAAGl64oLexmxXsAspBeFilkE6JD8riwftQRdpEbwsirgBLKOr/obXnXZFBgXyk96O6aXDZAczsijKqawswjFtLn2QLgSDiE2wF6GGOqgq/R+kf2z9OUp0hJgmOAAAAJkGeykUVLCP/AAADAzjJ06sP67/9XUJ4Aa6gkEsE2lBCUAT5+aVBAAAAHwGe6XRH/wAABR/Qwhfds/7oaLoUnz3spamu55oVFwMAAAAaAZ7rakf/AAAFHzTVsaywKpSvapsbxmzlNwMAAABAQZrwSahBbJlMCGf//p4QAABFRQXxeIn/EAFiwAKYsqCyFIoC/jDxslGIUBKY9ySENx3b614HeLNhm7q2DBTkYQAAAB5Bnw5FFSwj/wAAFrxObMXNBGKsuWwJVuCHSKg3dNAAAAAQAZ8tdEf/AAADAAPLFHt+QAAAAC8Bny9qR/8AACO/Gvpb5KCN5GHpltRNnrDHxtNPTYrb7WK+1wAPWH7OVJaJUb56YQAAAFlBmzRJqEFsmUwIZ//+nhAAAAnzzYkiQQxYCS2ZkIAgAXW4Nxd8o+1vps1WWRuuFLFzA//cG3ZtN70AbpzmxjFo4YID8mENqOYLC0tK6ZWqpVn1eVlceWLqgAAAADFBn1JFFSwj/wAAFsCfHwZBslJqF1UkxLfmn8M2cE/PweRI8bcDoVUbLv1a7+5cDbUgAAAAGwGfcXRH/wAAI8M+DnjYuiRH8wo23UA+sMSpsQAAAB8Bn3NqR/8AACO/Gs573gm2aZD1fpZbKDtk0M42rb5hAAAAjEGbeEmoQWyZTAhn//6eEAAARURac3VaqxRqgBa2/3+tRCoQ3+0zwy1RbvKIQX8tuU3OrgfVJbt+cYIDgZ6TPu5011BeHl7dp8HqzTmLVEISuDqciGvs48V1GjYaSn3u7AB2gH8HkFB0aYDrcW7bd4NnjRW4NIlgvZ6ozPfedNmzhRbCrxV4FPm1ZdR3AAAAMUGflkUVLCP/AAAWs0h7+l3yRVE6w6T1c2gD9jpSon2Tbpj1AgvwMS+hK3JDILDe6KAAAAAqAZ+1dEf/AAAjwz4OoPFFWU9UoTYM9PJhFaVfzrYUOTN4KUepgjs5NQwIAAAAMgGft2pH/wAAI78azjsRBUALbq86fHxr0J6OpQ5UteoMFEsvybXin2AVv3myzfcVxfsxAAAAv0GbvEmoQWyZTAhn//6eEAAAR0RnwWEem9QA0wl6bLHzA6fLlnC2Bb/znsaGBIKciyFy6Errc4fmM9M21d1PaZXIZgvb0ymDBQZtwk44g1EsDA5LwLRhNGonA8gznUZSRsFPZlYOsWLWshYQ47Oi2Vb1Q1O1UHidU1bR8v6U63XJrZJZ3dApSCDhrxw1OePxvE2qzbK9nhf9kZw8dc0P63ZDQX37CMPGYn3kFlEwLwf6H/LO98jUrHeqVv+d05jsAAAAY0Gf2kUVLCP/AAAXQ0esQcNelZJT3adMiFFRcQ8X5ABxT9cw8bkGCvdxXwVaXum2iVm9uv13fd/pt0gEfoQrKQfp5H4mdOWkE8hEbZXIdNstKIs6QIMySwOb8deDc5zOsZW2YAAAADABn/l0R/8AACTAmd3oZsF+zMD3LYiOTdwPQH/tcAZLwQayUvtG+df8BVag0p6j5JMAAAA4AZ/7akf/AAAkscMH+jfGHJbia6Oiw5wAo97AXtnaK6SqgxnlGix1J9eIWA/DipRgOb+b5qwrICAAAADHQZvgSahBbJlMCGf//p4QAABHQ9QELyATVc1Nxc0kRPU35Y1RGe0UxBB4S9go6V3C42JvQJM62IWZ8zXyeU3G77wDtJhuxpAglJXqB9Sl/wN6dDO0D/VzCaHqIsZ2dcl9tTSMTZRp3En7PzBLUVfMDca9oL2ezhPHuorxIotTSGxXBk1CwdHqbq1RnMNUa7vrizM8j4+wYqxko/6gue72RgmG+tHEPMPrwZcMwjc7uT2NvrwUD2R8bY7LxmUSsAIWCvRvdESxgQAAAGFBnh5FFSwj/wAAF0K2xiyDUzw5dTGZZO+RhDNTPK/uixU3D11QNaCWyie3GiywltK8HWcJxZ3KktMsdtGgbPssf8EQauYjLcwOdMO2Jdomfp5pQ6xwAC4WSc+HDMH7Ww7dAAAAPAGePXRH/wAAJMCZ+o1zEtj1tjtcpkPXBb0us3SE0zVY7MjSBpNDDFMcmiT9z6V8AAmdaermOi7BoY42zAAAAEsBnj9qR/8AACSugrHafnxN+YopBmYK9WW3cX4hDpSLsKbXT0JtaVy+HLJUqKu0S9H5Ymd4EAICp3orvin/NZpWES+QCupHTA71LwcAAADFQZokSahBbJlMCF///oywAABIem9IEWXmQ5wAnc1mcioCxnhqy3w4votB3ktb74dYszv5PoQ/s3+13ChxFlCd5rwdIdgwMrMDzGRyZCB/GBVhGq4ZKHVSV+NDXSd/T70OQbUWJFM8APoir5kJVJCqDgxxYcz5/auE05fFEdhJxtrMJ4TgDK2ZVMCcYKdTuUAgvo1QGO/Wp9Fbd8vcHlayKFtHkGzu+pt02BMbakMKEYkIxgqpl3Euz6YHSOXnm7QjUsvw/VAAAAA5QZ5CRRUsI/8AABdFKseZhLNCgcxEKzj6cTBkQAlT4iNI44jdNqsumJ3lDhqnDZeFPF78m97/yJJhAAAAPwGeYXRH/wAAJMEWIqU8Fl8kexakJy1gdtCMAfpLb0GlSBKssgfXaU3R1vhwe3JH4NIjndy+Dj5PxFKEpxVswQAAABsBnmNqR/8AAAMAumYSCxKSE89uhoOW89UAtuAAAACKQZpoSahBbJlMCF///oywAABGKZPOgIAgw1jdM+AtOq7Va1Hhw0wEuC8eklTK8oQd79Rw36bDiYpBjULRuWYXeUoD2xiuH6aqS9ReG1hbMxgCzvk6EOdOIMk43p6QNzm7aQ6H5VMOOZH6oZX5RPVmW65Uwe9YVZKZUTbzXCKRD4Xg235Yzc/HWW78AAAAKUGehkUVLCP/AAAWvEPNHjg3iSSVVTNWxUjL/gcsCV03qhe5Rre9LWclAAAAHgGepXRH/wAABR/Qoabhewev/jXDKUZNXq/rnK51twAAACUBnqdqR/8AACO/BCcSyXatyFgDwvfTw+CGkLlZgxO2Xl1quZyRAAAAxEGaqkmoQWyZTBRMM//+nhAAAEVoidYvIA5RTtmA9RM7dW9eRoP3HxVNMY/dgsTW4DNLv4kLYNqTfvHSSblhYoAKbELf0COyUkFTZxFYEC+soCGstangc7S9YuugSm9vBiMgLrnbcNQMCLQQopTT0QqSGwaioo1a0UzkzIRoRu6mLGctt71HD0i+E5YYhp73tW/zzEjIpYpVraW/rHgX0Nq4J0qrycy4yb7U5ilJXUBYc8REV6EEQTJ437eEZ9QwH9oXzvYAAAA/AZ7Jakf/AAAjvYOByV+PNAxasODoTlBDJwjt+Yw0DeTLAysKVYgYrJJxi0202dJKL8HyEATLqxW8EvnUm/PhAAABA0GazknhClJlMCGf/p4QAABFZAQEhsPKAB0W3AACDO2BM4yuXCApeMaAqDCg966nW1N3UZkAwP4/K26ArGnqpSwg3IdCZOGinIXHoTvasV8ZSmvXDatNGwkqjlIUo6wyRhj6WKyj6gZ5Ui3F6yRxdU0KLKljZTD0aSopefs5Oypp7FGObUBuxJwHJEX7rvM+/fnCiL/dwHbdQ3f2OML29MyaZKB7VPeGv5oI3vkkzN/sdoGyRtBJa+6RFdl9ObVtj3wbWwmT4RTdPlro5PtWYg2WiazokYMYHUiNWNLXETtOQWTzLSYXA8gyQcPpbYhpIYMgs18pde5MYe+ylGOTXcr2Fq0AAABoQZ7sRTRMI/8AABaytsemf1De2tEBuxikTCEJQtKPecSiCydmf3qHwM6LTkVA3hpY80JmAwUjKUF+nx6k/ruBTJ5LpfmTIo4s7lXJaq9lJi4Sk8yKGAWduWe1wBo77Gr639N3fSKalYEAAABJAZ8LdEf/AAAjwJnh0l/BR6k6tORK+rUg/7iREivC1cAm9pIip73CMoFie3Ds0BK0cyKmGJGAYmHfwF1qC8579BNoophngLYQ2QAAAD0Bnw1qR/8AACPG20TtF550SACDEUnGAGs4pebRR5GjgZeVzQCmoGPPJoz0SklXRm8UBwtrZ0kbGApgceCAAAAAfkGbEkmoQWiZTAhf//6MsAAARgD1Jf6jxDMTP4NNNedUgZeOoALgudQbmTB88eiqZlAf9q2Jq/vP0VnNN2jWpGpYdmnbNHZMaHfTbVCo/dSc2MZFx4BcphQr2H8AX+8F3/L90liJnCoKbVveslM3m1jA9OXvW20i9qws2Q5CVAAAAEJBnzBFESwj/wAAFqpXjDoaj1cwC9RLneTYyXRcfZNv3/RL2/0yLIFu38dWTpOGI0xERvh+Tudj0fq8g4CUyz6154MAAAAwAZ9PdEf/AAAjwJkyfNa9q6fTrPbuyHMlSb2QsaMCKw6vxoYQ70eWU3MVAEpdTfxYAAAALQGfUWpH/wAAI65e4i9/oCJcal2nnsmQwoLYyuSOtxZA5Ir0JgOidT+P/8jwQAAAANZBm1VJqEFsmUwIZ//+nhAAAEU3dRG1Cw2WYBLFJO8+mXMDmP5xbCFHB5YnwzHHoMEZOYh745E3lg8QouGcE8/Zu6oXMemQwvU/ZcaL2sS3V/ellmTSLC5sUckSbHTau8cS73qMw/DysaRTf1QqF9OdyaB6s4pmtCjFQ5eYIJRRtwuYwWr+wT5E4f3S37oyc0FWO7dtekzeKC0o7fHLLBtab2r4QKHeY3CwTLsQI3Wv2UD0Cn4cyS2CDmCjcU5Wl76LxNFj612gWPX3ko8JYKZJwB/MQEOxAAAAJ0Gfc0UVLCP/AAAWsywstMVQ+IzvyTY9sbfvrEeCtlKlQl7o5Ik/ewAAACUBn5RqR/8AACOx6/wczucP13lWxcXuhGrLT4TuAMV0ttu+1lErAAAAcEGbmUmoQWyZTAhf//6MsAAAGoBqbbiAXsrR8CGK7+GXwFCOrDDKU97wqF4H2wVt1vb8Ttmw5EPqd5YPJ5a8JMdHUbZZ2HPFOecsDfN7bnKfgRMvh6gwubyl/TGpArCNrouYyyrNzU8QLqIKvieOg0YAAAAnQZ+3RRUsI/8AAAMDL+5BBHrGJXPnyfbq48B6g1nkJFCS7c6L1rZgAAAAEwGf1nRH/wAAAwC6C5lZ0XJp2YMAAAAcAZ/Yakf/AAAFHzTVsZMPuRhSxRP9evzeHfy23AAAALBBm91JqEFsmUwIX//+jLAAAEYlGCgG7YBNW5/SuRVAny/kC0A6p0a6mLxsQNW49+brzoN29yw8Ze4y+/InZ9EitKf69bvDvS5Pz9hB5UryY6A4CJU6yksrG1G/YSqKsJjCYxsZWVaatxJ71hCE3qIY/MNzMZ29lVuIbbDfsnv7liH14laQ/uduD5YWttXG31r7IjWmzeJEG83IVr+tY1T5DBlq29fYNvEHMq5osptGKgAAAERBn/tFFSwj/wAAFruK3phmfpeCOcbX4ln/Yme0FE/9ukIMEw1X+NzIrnDfcTtVXzUmKcAJIO3Ju31QOtfhVK/Bz/e2YQAAADABnhp0R/8AACOsN2UBevY15MFN/37neoI3QJu1I+b3+cXRJ+km3ihdhOQfR5Ar4MAAAAAjAZ4cakf/AAAjsjy/dCtjIUEZEWKaSs3EYW7sXPG0O6WTz9UAAABUQZoBSahBbJlMCF///oywAAAbT1s8yPoOV6uH2/xu0zAKHbolRpjnJeqPitvz8W0OOgCGMMPR/BIGXWrY5yCqKYqchAxAbZhW4yNS8dLqVzj1tWDhAAAALEGeP0UVLCP/AAAV52EtQWCRm754Pjs2RI1WR4Uo0EVJVVoe9U65/7pXrWKAAAAAHAGeXnRH/wAADc4S8exzH0Esio9bIpxDIKnekmEAAAAWAZ5Aakf/AAADAAo+eQzBQRiEx2W1igAAAD1BmkJJqEFsmUwIZ//+nhAAABpZIDFanvYE93h8okm152H0V68Y4oI7vfJffiyJSACPlhHIxAfD47puDfWBAAAAiUGaZknhClJlMCF//oywAABGLwPhsAZjwfrBz0D3aO5/KR37SI8/Drk9F6cT8EC5XWFN+6Hf7ZzQz8g1sgy5ay2T7iWPUCXApZ5zZuTxHln7bualJtXCLqqz6a7yrLr2237II4MjMtOTXn4IbRe4s0YAT4+jgTM6wzdYWI/0USo+dbbubqysuENnAAAAIUGehEU0TCP/AAAWtT9lcpFQRpgrYiephrj1X8tZp1SNswAAADQBnqN0R/8AACTC8IZz0R/f0emVPTaClHVJVlN/WpmdkKARFwY44K6c/DYehSP7AyIVjnbgAAAAEwGepWpH/wAAJMfG2ZVCbh1IBH0AAABIQZqpSahBaJlMCGf//p4QAABFRQkgACrAeyZ9HpvSMTs8wN+IAcXcaxXzJa/mh2AqAtNRpRKrSOf+NDDTFFYax5g7ojToVDmAAAAAOEGex0URLCP/AAAXTqKomwIZv3ByphueUAkm7aBKW+d3fNqdaNBPmzfLhCghhPhAdN/23rRiuHJBAAAAGwGe6GpH/wAAJL8azCDiwB9U/mz52MKLRPWFwAAAAGVBmu1JqEFsmUwIZ//+nhAAAEVUqU2J6mKBulxKzF8CKy3sXs84IjG7/xTFFRvO+gICYyLNlLEAON0MdvQAv9xBpnnyUque0U417KxMg/5Yt7u3hmCVE7q1vN9utnRvVLoEGmqaOwAAACtBnwtFFSwj/wAAF1CY5z0Ce6d5fSVJUpUWAVbKYdeiShSRvniJ/0ghjUqBAAAAGAGfKnRH/wAAJKv4W3ggBSKxjggHs0XVqQAAACEBnyxqR/8AACS/GsuaVA+JiZ2u3Ta7LUCaACGoBDc07ZkAAAB9QZsxSahBbJlMCGf//p4QAABHRQT3HHkojQzyOiUELVKPAiO8AC8rx58vnYAselcrRwppI8yXNAjVogwYu24/HtsCm047z/G+acH12jW5inv5MoCv/r9zWheTxnoTpZk7GUAtgBASYNnWHH/kKyL2KS4WhC0SbBjjrTsCEIAAAAA/QZ9PRRUsI/8AABdQiAJVcOpBxuXyIpMABVZAOoDUARsFtonOQAh7Zk5gxTQdlirtME1qTIf47HcZnLoyNG/AAAAAMAGfbnRH/wAAJKw48yMuddl7PHso3pzkSa6HQzp6tJ6zmy+rlOfaCCH/55Q+WukcjQAAACUBn3BqR/8AACS/BCcSs/KYCSZApf9gvrPh1nyPrAKMu4gYDjteAAAAtEGbdUmoQWyZTAhf//6MsAAASADQYMJfxfaAfs4/G48DAXAeMmqZ71PcEuGh0W12f+BJTvP6NZDrdO5nNnl8QfXb+gk1XJMtoUpOWYkB9BJ9xG8tUGNFFnUmpjb121VxwkD1gBjql2qudLKxsBarNX/J/8JXAmZeDk+3Wz0J/XstgiFDa9ZHUox69NQP/kcgWrEtfHRzKifxQ7djZ+c0xvFBgM0g4QG7Hab96Gv8w7RW4cpfUAAAAFVBn5NFFSwj/wAAF0VEBX3iIT/Cglkvv5AADin6Menq4SqQwetZ2mTjixGRFXwpzFfNmxHS4nH9cZxpGPtIRZT0tNXJ5ojB4ozHZbvpkYvUkctzMBJhAAAAMgGfsnRH/wAAJLCDjJRsmAixbjdr0xODpicejQOxDWxrWF5NKMcqhO2kwx3KtGh7q2SLAAAANQGftGpH/wAAI7I8t9UqOPTwvVbg28j4ffY2N3Lx5uEU2EZTnDutSGkUPUapvR8BjSjejOvBAAAAzUGbuEmoQWyZTAhn//6eEAAAR7pvPeQgZeVwA4TlJylIOAOW8sKp25GMyIenyq+8M6hwWCkMothEhZGscW7YdDOP9Xn8sa8FtoCR6cOFHEZ/uVVmFOdJVRx5ATPlcuFHIUZ9lAO83wMSYskvk6iUWDpoUQwwuIHoAqTqcRQpO3z8pbJ/BNDRRCA6aVFI/JRxxcu+k+Nf7x0nx6FsyNKzr7DQoTlEi8ybWCp0cTzy7NqWhxuNuhFaiSpd0XO99pfRV3hHQOLNx91RLWD961gAAABRQZ/WRRUsI/8AABdNOpjpfD20/PQom1xrdZNRAkZfpLCCs8eUb/K+ZGBFSep8hWA2Jnegam6EzeOL6xhxwCTuBE8AG1tHXMZvfb79SPItQhyMAAAAPQGf92pH/wAAJLHoYXk79Und8SlOnkReiZzJ+YuzrBp64SC81Z8+8Kks1HYHUIv8SINQdZC8KkoGjbs4xd0AAAB4QZv7SahBbJlMCF///oywAABGAhXNdWnoi+iBMfAYrcLILYiyVmdg+5GuHgEcvlWMtiZwycBRClpsBBnSAC6idRNq8xCMmWQM/0UMnnhNec190KaEdjNc/Qw8QRoX1oyb3ykaQsU/uvcq4Oi7QX/2EYSLx9YOnHmgAAAAVUGeGUUVLH8AACPDQdOlgOEMNqAQzbqvma1pujc+gHSA4/P9KL8bzcv00RxXVgo2T5mo/Da1hzS+mJxtT+rHzn9AB5tvk1HUSoD/4nZLqHOtR2aWd0AAAAA8AZ46akf/AAAjma2dF0mMvGwD3lEewadZj/TX1EN0nisjCnof/g7pegHu+SFaj0nTRTjVjHpUWcGNTts/AAACTWWIhAA7//73Tr8Cm0WXagOSVwr2yqQmWblSawHypgAAAwAAAwAAAwLa9HiTO+TU8TYAAAMBBwAoYVMRISAUsbwqBLEhnj8DohApEOxo/Q9bofPdFMydgSlWhHbXLNGqXcg1y1Siv1MNvSNq2TYscvQCdD87tRpaGskuFRjA9OrwejYnflpV1Si37BMr+XZGE4ygyotduFxH9g1mESR2mLzhNU2xjaDAmkVbGSMI2n6/NcmB4doigaeXTtrg0tHZVu/5Oy/UxzjuZbDz0Z9/WaNT47DVMhfrQO8aMzYBffn8jdU4Lzahelds9kYDqAOavbPCOkV5SKyAH01EBOKrjxKvBAC/QX/JbViWhOf7JS9u5iFhDqXc8AFNwJLcax4AcH2pdDj5SzeRLFT4KzejONzhK58Hvyz1nGlAAAvRVhNScvyWvZZS2x0VLFoV/tD+gFAf82jm6hDLAeO6tY1xoQmzBQqLug9soNhrV2IkcGiAFT6ItZKbirvXxg+QfSLoKruIs83jIt+Ez7nZpV0Bom4f3ttneOFc4xFPzEkqKRlVrOLQAVDDN8OUouI1hR8e6SKpMmQDS8sT6lDCysG6Jd1UaCpumPh88GymQQfvjEAl4JEX6CHouwlP9qL9X/Tk72F5+YMOJuQdhCdxHB293YefPQDjcKkbm8aSCMCGamH1Dm5/kDvmEQ2QAIIldOTgP8qyqoIxF2+5D3xim0SJ7a1irNjOyNWe5xYT4CYSE0LQEne7Q9deAAOmAABjWEAAAAMAAAMAAAMAAAMABaQAAACSQZokbEL//oywAAAajf7aHQBdjjGK6aZF6Ov47qav8Xtg/p+GA4imOAWee585NT/1vBHY/FDFNud5+E2+jl5AyAOL99g03ClxokvI4AYm/khnjODKcFIftAE4Yv1Pozt20eppEN/IOu1W+Bxp7A+mWgd/tqYxu0tQZs/S9EoV476ANihVmgCqJLZCjHz28i+X8ZkAAAAvQZ5CeIR/AAAILYxxDwrqJLZN63iUkxHaIoRyiYjx2lpjrkGG22G/3TsuOyxLfg0AAAAbAZ5hdEf/AAANNe8xCj3ytU5VudzcFBOS6peDAAAAHAGeY2pH/wAADTSflqdvlzvX9CmTGtKDSOU/UwcAAAB9QZpoSahBaJlMCF///oywAABGAvb545yuIgGpValq2ZuHxJq1rMSo1fgmagZFyzhp0SbiuSeQW32JMT8FSMm6ewV0nxpj7TQtM/fWn481I0X4EKuRNseUFgu6kdtc6QPWLwOOPPvjnLsqo/a04RNIgjlpGcp558PTgtOAkgwAAAAoQZ6GRREsI/8AABa8Q823FcysmX2RyiBomSvncjkDtXocAcwOqB7bMQAAABYBnqV0R/8AAAMACj+0PYN6CuMBseIDAAAAHgGep2pH/wAAI78EJxLJaZq5FMWiOCG2wChDHPoJUAAAAHxBmqtJqEFsmUwIX//+jLAAAEYQwWg23lN/0cU8fgUsEjkRgpzJ1Z4C+GNMdG7In5ralXYUNH3PYhaJxhjgjA2udMrhdMRAC2b3sg+YGT0d//2MohpsZObuguDuBmptXCFSz9fJhvrWmL4lwHEIm76EJ5GhMrCXc0HnkBQMAAAAI0GeyUUVLCP/AAAWvEPNtxXMsjQNUMrksmtMvUMXWD9AgbsxAAAANgGe6mpH/wAAI78EJ2taW4HUTbcpc+9Gz1H4rYdCicb4glJGcTMXLasoSV9LB5SZ0ZmNcQm2YAAAALRBmu1JqEFsmUwUTDP//p4QAABFum89zSL79aAI6sADdKtkIgB2AGar8l/75z6u+2muonWTY21hz0gWAastZt/26Z9orkf3FMBOcTBoGygWoWVQvyShacqi88wLVFBqd1Pj6IXHEwAZRfVrqGKQY1PoDk7Ct/Yxf5spbZS+aXqqO8hJ4F7Y664uVZMyw+XV8dStzHE5TY0r3jwsrPqPNTO8W2MVjnDXu1McnvNymQfCyXAPKIkAAABIAZ8Makf/AAAjvaU7veW20ngSY8egjf7u1mHPgpUYlRDQYL2ew+h6k0Ydo0X7dtMi+459+E7gSiYlAyUAoK5TmqqrGgiLoF+2AAAAqEGbEUnhClJlMCGf/p4QAABFN8/+y9FfQAV8LfOfp4DByfl35iYnn3JYqwtu1BwjYDQPwH+5Gq2IIDrpJWx3zwKH1tX/ORQLCa/z3fgTh679j62wns8maQqdrhwdRYcZQXZqb3ejFFVhfTiBwUip/I+7F24aBYqko/4zMeWmwXyfL/1iXBZcSn1Z06sPAAwqVrYaEapTQEfdcTFtAM7VU3RlEt3h7n2e4QAAAHRBny9FNEwj/wAAFrw3eJWlGmDN9aXMK3hyzq/FZo4zFf9nZVzB568whAfYxjm/K75uUNNO3Mg07TehIPbub1Gu6qZWbmafGgKj+kk+DAAvTpgkltVF/DVGEAYuoh82Bgx0Nn6JDRtNqu5xnDsUxQcRzpqqmwAAAFcBn050R/8AACTDjt1BaECPMdiKeAkuuAVB41Dpta8p/oupj+9GvdwDqJEMa7o4bXt3zAAOa58gDCwv+FgAWXeB7WTOpi6bwq+AXG5g/IZfqed30wqMIi0AAAAgAZ9Qakf/AAAkx7d3wknuUXELO654WVavjhq367htxFkAAADMQZtVSahBaJlMCF///oywAABGAfJ+pvNLaAOUdrksUWNQWVuFAFCBNP/sPOaKYISwttXTBhnSWLh30De/6/rgWYKV0SYt3J6lfJ1zL9iqffUy0IC8FVvambsRxzZLS4082orG0vTTKBzMgexEkxGSOQldIjszIMiv4Vl6V2pNSiORWsYoM97ggrq/QiUMcFIuZBtfmDI2hth3t1iDSw5W1cJw2yThhUAU2MCVVt6mjscfwo/SwUyasdVtSXLxCLUSPZiG4neeJ+CGGgbMAAAANkGfc0URLCP/AAAWu4rR5gP6oIFESKsAi4LHQtpgTtwX50i3U0XvWIdK8vPwXph22L8f5ISpgAAAACsBn5J0R/8AACOsOP75LbHPCmfup6P7ZQNqZtGZU5pDll121oU/UZVYzxipAAAALAGflGpH/wAAI78azoSv2tfpU4R1yrg+nzb6uU7lRPi9VxI4+Y9t8x+YsbZgAAAAcUGbmEmoQWyZTAhn//6eEAAAR1EJTwU/TFmwETGCFQAOG2GhmadojvrgMugn4jBAxBCLtPS5yTmJGR7LHW/3PdFMUhQyRXf/fYp1LLzy7zy7hTuTdbrASmuib0JGUQlhjy00SMBuz4sqJ22jgab8gf1AAAAAJ0GftkUVLCP/AAAXB5UA6M4MVNjuyZ23MZTWghhB0eKiF/zUw5BttwAAAB0Bn9dqR/8AACS/C64vH6aze/lWnF0fUKkqMFbBQQAAAIRBm9xJqEFsmUwIZ//+nhAAAEdRDZB2+LbQAL7Lbk9P2N6bU7rIoyYXznd6WG8Z5WVnJIDOx1peorunrvLzduwqFRLCxSvVDtyZxIQIDP+g4d+t8ZKkYsfovw4s7k3u2Pb1jQkdR+iWEgZ7CoMLI/LD8LZjKjMm6z47/yE2AyTENKTgz2EAAAA4QZ/6RRUsI/8AABdMQ83M+Qtfy+InLdJdu11h/zl2jKjacYEdHHmgBLPwRL9ZRLM8ex/MXZVAvgwAAAAeAZ4ZdEf/AAAFH8cP39rEdPvq602976twimPOabbgAAAAHgGeG2pH/wAAJL8EJxLJaa27A+Hm/QD1ABJ4Ahu5JwAAAGpBmgBJqEFsmUwIZ//+nhAAAEdEWiG1QFmETkoAOPYyA0PijiPEMXJGWDxKfzdHooyuh4tkFfDYI87/3PvzZhqWWzgAYFEsOnfT0IvX+prp78RhbLtQhsPh/8xApr3HDtmw6DUPTQ9KXGzgAAAAMEGePkUVLCP/AAAXQ0e3DbkcL+xKHUqkFLP+Kjvb/mYohHOCMsh4AGqfI+JDeFrbgAAAADABnl10R/8AACTDF2opUt7CDio4sZNcNDaSJlLwZh5LGG/hnBzTho6pyZBgcS+bkBEAAAAqAZ5fakf/AAAkvvieWHDtwbm1Y+hqgIDhrMNRfUOTgALhhVc6T1IGH0mDAAAAkUGaREmoQWyZTAhn//6eEAAAR0RaS9V2t4AiZJZw8H4ThGV6E4ABGec79QdEAr5KjJJiOv1xcGjXRMbvCaFsUDGTRAus7mFQuAztkIk7WDzvx9MhE2qwQ+nXo8ioCTv+rtAHfvl4r+k5cpTc/GpIRVdOjOxuJBv4FYJsyF33Y3suKlyM4NDSlLBhQcxobW2L35EAAAA7QZ5iRRUsI/8AABdDR7cN4ROyPcLDym4vDL5Uz1MhbUfvDqMbgXQ9oiu+EAZpQbMblA5XuY+g3BP8+DEAAAAfAZ6BdEf/AAAkwxdoqaVT1PcCVMg9pHrusV5AiIvrFAAAAC4BnoNqR/8AACS/BCZufruEB+zm2J7Qngd7sOj85a+WbdABMsKGV0nskag/QbZhAAAAUEGaiEmoQWyZTAhn//6eEAAAR0OPRy6cP+gBLUIjKAKsVMwnBfy9PvYe9BdSmjF22EusQ8si0A1AapLNH2MXxBHp31c7+hn0IxMSmXFYF2lcAAAAR0GepkUVLCP/AAAXNRJ/72dz7vBnnRil8LNx/5Ji6IAAjNJcTTaL2OzBYa2PQsPuT1Kim4UB9mj4q1npeiyTsXmJJTzqRiAhAAAAKAGexXRH/wAAJMCZ3elbD7aqdXydQhz9nWIKNiBnyKgjKpjZE1UKkXEAAAA2AZ7Hakf/AAAkwkbA7yX+FJDU4eD/RkF+4br07MaZJoIEbb3bSKAD44bIF94DejteVObk6xbMAAAAp0GazEmoQWyZTAhf//6MsAAASBRONs4QPlCUlL/wgdwItk+uON0bFiiukAbdWS6t7fLjZ92UQKR97gn/oCdnnw3CK6XXpL9qEUFNQt+bFGtO0+gbh6g7nYq+9rrUR08msE7Ejj2x1VLwJ0JeW3lN3h/1P3j4lG9KJjquz1s2Q8a15QhWOwXMpUqAnHvD916DwSSWxON3SuSz9uQzIwoqJv5Ym41VBGBAAAAASEGe6kUVLCP/AAAXQqvotEOFZdvW9awVbUEUDKnzFwAgBb6bRThXxnJuvqXOnRMypiKR1UAARUmQCvHyhC5Nf2vzXgAohXjJswAAAC0Bnwl0R/8AACSr+FxCJXs12ThuYT6ZqKQzw5Suo3nYzvuYc9AAJ188y4e4CVAAAAA7AZ8Lakf/AAAkrl1WWZr8c5pYVOD2O6A/10s1xXRhPNPuAL+aSvP1NKDBD0hUURp/PclPgQ4aaeeoGzEAAAA9QZsQSahBbJlMCF///oywAABIAT0bX7+Z+AzFIokU+ZSK26MqaGeCGAAbqvGT98OxkvoztlSDdU509y3UqQAAACZBny5FFSwj/wAAF0KsjbT0vU8pOzcKf6puw9pd7FiaEX90GOZIsQAAADoBn010R/8AACTAmqG1ORXynEAiaktcy9AJ4Ni4lhFgfxd6TnE/a8jimfhFCbCgBuqbarCfV/9u+7XhAAAAIwGfT2pH/wAAJK5gBQs8EMOSd9O6OJWSIXybrDlAlPGGRzghAAAAlUGbVEmoQWyZTAhf//6MsAAASgFzLR+Vrz58sAQzpnAJzn9v3bvigvfU+K7JAR0o1UFxFfvAHlyBkoU7HMN7C6rWRVOE78ZMkKB510Kmcv6HXf6teuelSHqDE1akjPxUVWrcxVHzF60bi3DtYTbQ3rv18P0WlsnQsPoc0CX2ctqqp/C3YUoyKJyVJIz6Y1ywjTQun17BAAAAQkGfckUVLCP/AAAX30PUOA5C2ivKxGnkAK3LBVrDe71/7VJG0S8CAGwh+Rras8hHVu5L+zJWmLOIJuLW07aifxSkWAAAACkBn5F0R/8AACXAloOPig+DRFOHYqwJ3DYj8yfwxcvHuJC2lleJ/Vvh7gAAAC8Bn5NqR/8AACWtW8OJHZ+xOb1N5CPJNdjPMB8TNqonP24+jIjLT7yENsxLulfa8QAAADtBm5VJqEFsmUwIX//+jLAAAEoCz/J6CVUqebFhbpNH/tn1p5a7UpPjvADY5rRI3YCDNFYpasDpPaGmYAAAAHFBm7hJ4QpSZTAhn/6eEAAASXpAMpFT3C7TsvnMD8kpl6Uuvh/UHDYR4K6FS/2xzR97o6l53KwXKMn7Pa98ueQnXKkGvLRpgA/NJP5eFnLRwCDGCJJ8XxyGfU/fNi4/b71EU8iH9sEzKynvBpT5cC/6uAAAADpBn9ZFNEwj/wAAF+ibbqbgdBBnX54YomOYV9tEGuhOhHYaKeeQcaDCVzu6x18k42YX/ryIXkbEYntTAAAAMQGf92pH/wAAJb2Dgcmz7n7oeT7Bdy41vmoWz9M3DJ8zDmI7MHVWWlId5DdNwfFPci0AAACUQZv8SahBaJlMCF///oywAABMAaRQpvFe4FAfJtij0Wz54AMdpSpTzd+U/7NMLx3nvPpogO1J3zfhZNjyyG3M8vvVCRoDHDHw8TPSmHiwRMyKOao6WkpcJXIt4k/ABJ+sIzoHL2DH+duIOz5mYQqC3QqB256RWi636KjEe6CjQan50vfcBWoCiHw0r/YbEtPYeknhQQAAAGxBnhpFESwj/wAAGImGz0rKFQvwcDMkKRRQKfiYRSQeidaoWuIis9ClQlh/Dtz/HnCd9QhkQRWyAIlO7AzZog2TLmDpI8yk+xfjvRMQADR27sfJih3hI0J9TE6GPc1SFy2SkPKGfqc87UmFhYAAAABFAZ45dEf/AAAlmH1m+82tWFKpvOI1l37dNUO6e/RnDxaKEjVJ6qzksk1HBEfKn9J5WaOwdOgAA/CFvrFXfaDosTac3GpAAAAASgGeO2pH/wAAJry2mtF+LkRUn35s40EPcGlrU09qKEe0NMYg5ziQ4SwKZcrFQfszEfhEd8qmWFVhTfpoDG+7CBaNTPYVib+I0nalAAAA7EGaP0moQWyZTAhn//6eEAAAS74sTBw8B/LD6AACMF//8OBdPdO5grYb7nJlXb0w2msphlXs8Adr1MfvksiHmb0w9zyQioJnTKjJRlz1bnt0h+CbAM1/Q/GrEcU46a0x1r8ZYflPL4fgtr6z8Y8M9jxFcPTz3dyYLIEGCGEL1On0VwXhxvJ0+YJUY5CfjM/Rc7CZTm79Ubl8g5kp+mG6S92UwaloIJLU4GMk57JwB1cu80zLrCgvc0uv8rGmtzJ+QNt68I5lGl34pwAmVv1aaO6Ia3JfkSm2VP6G7k9VXIzEdE7YVusykin61FInAAAAJEGeXUUVLCP/AAAYgmuyMuJSgpMaINtwHTXVp5Qfpa0vC2bdsAAAABMBnn5qR/8AAAMAQ341nbqbGTFhAAAA0kGaY0moQWyZTAhn//6eEAAAR0PUKdufBXR7AB0DSNfc3MI1R11c3NTRvHbxPB8uyIKXtvaSZ987XKGWmRtXI9xmLyHm/dGZerjUdArr5qHh67siXeY2OzWOiNwQ9s0xOcPevc1nIrU4q829EjugOHyd8D92cljAWxvkNL0vq+BKPEuewv7Axhjf//+6Srkvfn1MrbKduLtfA1sUQxBG0KbQBseyXHLbBnitQG5fj5cGxvhNF1XQwN3DIt4+EEr/phT6UbfsYXWHB+zSeztOZIjUWAAAAFpBnoFFFSwj/wAAF0tbbqbdGU8Ej4BZZSWKN4vv/9c+PGVEF7AftHwxb8C+lmvB7r7+357nQArenWR7VPSo7918tiA8rj04kovzB/gUHo18WQiyuTZnxkQ/ckEAAABFAZ6gdEf/AAAkwJnd6WjUAETAH/sL7U/DahtsJwZiQj871/iyoSqK1z4uNni1GU9EbfJqy/aqpx6zhmDIypn/I3RUmeAxAAAAOAGeompH/wAAJK1biti0z6LKFvfYrdUTMGSwXqN2pD+3y3fjhPI1IGeq5aVRZUcFn7r8Tg9GzeDAAAAA4kGap0moQWyZTAhn//6eEAAAR7pvOtcvD6vvHDQBya18w0ID16PVezdKFCO2fQvpbexCaco7/U6+nJRdVLAKAQQ+tnQk3H+mk6P+JQRZFkUPzQsQQWjvDsCkQKZR9cm13XilGQnz+TlQ0syyKDMEWJiSU4fDJM2BlCMW+Rta56+L/lGnwFMBTv+MX3rON091zSv0poKcONhf4xLjm4YuKfzczk697A40ss82Z0tDBxj03JJ/b0tY0ENR/d65/Mezl0uqxDkPRMeQXN2/phH2Ats8taPVtQkbHjbpONd/lGomx68AAAB6QZ7FRRUsI/8AABdLkpGSAN5GopT7PIWqzjcfwMJNnM7qMRMmhdhg4x7pc1DY43F1/3huwO/30+zENjpUAJGuOY87mp3LMFC16o6kH7mSKRa+nPH+TIjv1WDkaY+xrk4DGdCqEZjtUvniiBUoCKm5lRO7CL1OlbSCO3AAAAA2AZ7kdEf/AAAkrBTpC8D1gXolIG5/GZG02S954pucc92hVAFnYMy+pxT4qDcDvlTh9npUqR25AAAATAGe5mpH/wAAJMbbOVt82I5KPIjKqKoLoEHq2RvFjojGZneMrPuzZ91SL5j/2G5Re6JxDMfZs+DLsBWofM/mPXJW5ry9nj0ykXvd2DEAAADXQZrrSahBbJlMCGf//p4QAABFRSXQdyClALSWdjsfkkwL23vgqtHxcAXzFosv602wUfmTEvpfOltlmssjKbysrcCUGsNMT/a8MQmRZ1VYrp/FPDntfe75h2LaujX9UGbgD03ZnNg1wL0bOpMqTU6y5Grap47O+IU77WoPK85ig1NjsrlrmeSYTCGaZv0ShHqCJ/HFRG6CmSa8IXmarVz/En/9jKvGDXTO6P4AjM6l14VvLjRMg7oT3zIwLJjz188aDn2IGue4RYrvZGgnsZPJEQvRx//7zX0AAAAxQZ8JRRUsI/8AABa8Q83MIPyK9gWQ0XOWUMDTHEkNcq47mrWiItXoVg4kWQnQ9BFxyQAAABsBnyh0R/8AAA2F3S9skqnqfeEF3cebGwgQHJEAAAAzAZ8qakf/AAAjvwQmbw07j862b1PeMEpUguFF2/0L4HX4ucCxCbnYdgiEYBNCUnvDXngwAAAAgkGbL0moQWyZTAhn//6eEAAAGmZasuRnc2m4Go0AM4pQrOmh1Nkh3iTZiJrC9E1P0G16b+Zk0JTKQmvVtFlaioG30AOPY2bsvPmbJO9wOnPjc7edofTyGgvmbrXELp+8M7Dv3VMRGd4xNQb4B7A+XeB2ktD7Bs4dmkaSDs4cmqTL1kEAAAAwQZ9NRRUsI/8AAAhsCkobACH+MOjxA8wrTB5EosanBxFKKKaUtDSjeS+DghBp/HwYAAAAHQGfbHRH/wAABR4yLNaIVb5WD+ulkACexYi+vD7NAAAAMQGfbmpH/wAAI67zwWsWqyx0gXWa19GQJoXg9Ab+OJOwTYSqs87vN70ACWEONBOj1JEAAACoQZtzSahBbJlMCGf//p4QAABFRI7sfBP1TmOoLnzRMH3n/iZtb4SrPQEAAhscGrQuRteyPZ5fqhRQ1b0wCKoNWJoWy7+Ej3f2Rzt7E6t+uYwcIjk+1krFIKmJyomL34Nxsw30ZJ88q+JNj5d0aIIvY7XN8LxV5uS7hzerH2p2dRQH/3ijrAZNckVHmpXUXIT5tisS7IwSTIbCFPfOS09DdZ1ByKCwNYYhAAAAQ0GfkUUVLCP/AAAWsyl8XhiiokQVk+/sjgDhGSMAqmswmVG9d+Onc8MvX7NHICSB6IMzIVAAWy/k34nUZ8Q58pt5v9sAAAAoAZ+wdEf/AAAjq/hcSbgBB4yJGkZ6Kt/IbEZegkKvuosJ4DS9Ah34OAAAADUBn7JqR/8AACOxzAmGRht4MXeu9dM+yZ/99WE4FRIpOdKxcfUAD8+4ZqdGAATvBAuy1+nXAgAAAE5Bm7dJqEFsmUwIZ//+nhAAAEW6bzrbpQtP/OQSyV5n9g9/iYr/0h+mruWg1mSfMkcQAWmb3nEgSuznaMkCk0hCgAE1u6r9NL+ugJQoZPsAAAA+QZ/VRRUsI/8AABbIn4TjUVFrBMoqGLuA12SwIjeSy8QQ5ziiRbljQlJx9RXl2BvO7Rdc0siiGXI93mS8/bAAAAAoAZ/0dEf/AAAjq/hZNAiRBuX3OmDVeGz0HdDBeHUYNKjunSclzpHJwAAAACYBn/ZqR/8AACO/BCcSyXhOlgi5hx5V2OVRhQan3mJwjkEmlFMHHQAAAIhBm/tJqEFsmUwIX//+jLAAAEQ7ZGnciACOoAsx4CHVuc0tf6KbZtUyj3NQBJw/DhzRqgM4RhOtPgm2DHGWZhNOu1MEEhwRC2ffa2i0Jtxq1+t9//7PD44YaSIz/oKuZnr0vzyLYpsHf+eMLmtq+LAh1ups5msa9xEYniLfYms+fx/n845YFURhAAAAQEGeGUUVLCP/AAAWIp9e6q52Q1aFhSztvQtu/0KLJSN0fPghZxZ2in3btKujURxsVPXRh1ItLeEseWkSkxnBj7cAAAAkAZ44dEf/AAAiwLnMDmH/FnZpeixe8QpBTnQMbHa+fApyo4lTAAAAMAGeOmpH/wAAIq4zQsIpPil91VKngWRnvSBEDDyTmzl6PWhr9yQWeYevCbC5mgxswAAAAG9Bmj9JqEFsmUwIX//+jLAAAEQA9sTBvnF7pCQr5daYAADhYQYgwNronW6Zp/MoXNPRo24++8ponh7S/Vnz/tHj6jfNC21cm8RLrqa8xvnqwIZcsO/DUcyGxRVaRNCTbTzVAxvT+4mJ4oPK+NAKB3UAAAA7QZ5dRRUsI/8AABYinx5fnUwVvpXL+6pdV/7ET9m2Omdm630b38Muz6jSGT5o+0YsL0E4a+wwIy33y4AAAAAjAZ58dEf/AAAirDlkG2RyOX4RuI8mbaFQ6VxqDyjrEamKWSYAAAAqAZ5+akf/AAAirjEv2KMt9FGeCcCUi6pQAC2MhxEzvdLT/UdcAiDSErZhAAAAhUGaY0moQWyZTAhf//6MsAAARAFL+0IT84MhcuAszCvERAETPKh1tXqkph9+qT4Lp/lIux4KWD/9r8BpGlX1rcyC7zY5YNEWp5w92J5Wd6Z8pirLzbHH9ZOqx+d9Uerz58Rynb8MWhDgNM2DcLMAo5BUnnzuYxpW1jDW7m3qqK3H+CKDR2wAAAA9QZ6BRRUsI/8AABXeGjrILn96NVhS6CU3UE0wfept25mgUSetDTbT9KL3Uol1BduhJPhjgvqUoG/U3L3kmQAAAD0BnqB0R/8AACKpzsWWV4CnXoKBt2SiR2KmldFtvqQ6OMwH4DZsJHzx2FgcKE46+TuBFwAe9e9K3NrTWveTAAAAPAGeompH/wAAIq4xL9ijLfRK0FssZf2sxphWerrB//aNclNcEFu1+pjrhBKzsemq2TUAHyEdbXr10x3gwAAAAHhBmqVJqEFsmUwUTC///oywAABEAPbiXRyJU9tVfnAZsvhnJyJIf9PeMarXwV8mQSGoGULP6BQA3VFRjSdqioa2oyZ6i0yT+P7l5EUcukecMZxsb4s1DhHpx7li0i9NdKgEB4O3hxAseDTFzsvit0jTcHioBb4sVcEAAAA3AZ7Eakf/AAAivZUnapIIXVgBiYuI3t90Achard9w/N1H9sRSODlerPoD1OCNe0MXyHfL5hsQEAAAADpBmslJ4QpSZTAhf/6MsAAARHpvPdB7V6br8Gt0gDfAKi69lJH45PkPdktzFSRRvEE4h6iYyxktUBBBAAAAO0Ge50U0TCP/AAAWJSTirFYPqMTZKxL9rbavPjpFDJvzyubNSsMuKq+iMfNe7xAvJJMUr/RQeXJ/5uufAAAAOgGfBnRH/wAAIqnPTrtvkF2rjqn3QDIvVTVsvzhol8VBaDo/mautv/BeotWjRva04wAeMqVoZKP6VGAAAAA6AZ8Iakf/AAAhrjNCwYLYEZtiGRR+nO7UeDacCyGSZAQ7Zu7U002DMkwPDP41+2zAAJwW4A5+aqVDwAAAADNBmwtJqEFomUwU8L/+jLAAAEIQnWsQaS3oe3pvbtFgxhdexbH9TiP0l+RstemgFgyGPuEAAAAyAZ8qakf/AAAhrjHiX3Smz50pibdOVielRFmlDJAtx06N5UMpnzgE8TRJSs2wAQZHZ0wAAAA5QZstSeEKUmUwUsL//oywAABCAUbYnoEnVYPlwBC1Zocw0uedtuRYVFHJgijHt5CXeyCNqZtovc8tAAAAMQGfTGpH/wAAIa1F5nDfc7eWSABeYW0TlrNPjyRNNggppcd9FScepWuusf9rdahRM6YAAAB1QZtPSeEOiZTBRMM//p4QAABBQ5ckMuy0AG1o21df2EdvggBO9ooHtRGbw016qBa55F1fB4yWjxjWONaa//+6nYKGY+mcxbgSwXSJCMmeu6LUdmV/XaFH46ekwzlTg//oyKr6+vBrS80k/04MLCo4PuVorA8xAAAAPQGfbmpH/wAAIa1GQr0I96xq79ho1CNT702y6QALqAP+gQYKn91M7Xar7YB3g0U5/Do4tpBl1Sku8yTiBC0AAABUQZtzSeEPJlMCGf/+nhAAAEG+K03018nuqJyUaVugA1or0cJI1v1af7pgv6/2LlcW2Jykxl5f7N2wAKQbNWee9BqO82Y6WoD0pPFxHu2pFHYXyfytAAAAQEGfkUURPCP/AAAVlTbtWOKYqzQLMqnrG4lJBJmJ9olFgvJmDxgz6sSTY2s39wdR8WXfDgrremNrB91ZA8+aj0cAAAA+AZ+wdEf/AAAhv/7b7w7OLKJCo/Ilez6uahGMR9Udy4hZxhasJND32AB/d5rqoxlevZVqpQy/yalknQF5qkAAAAAtAZ+yakf/AAAgvTAGhboKYSWoIHrgWpJXumehNGXwEtGC+vBBszaOT0D0dufAAAAAokGbt0moQWiZTAhn//6eEAAAP77GwjxySMaIXK3qPW8KALxHmKnRm9AacpQPtP+gB1NW6dEGc/nS7koDpZ8OtTzGMKL7DxFxKue2J+YmQDcMSQ52rE8d10qg9xx8lRSjj19qBwADv96iH9L7KnEbLdlp03vzpP3Vp6IuivRcKvT3ncxJzlGKM5Jyb6GMSfqzx7Q4qN6Jj3Yx/n6+Uc+zT8BkdQAAAGZBn9VFESwj/wAAFQJQh0kzNA8npRbES77mCvRnIRTsYfZcnjqn6izebtsMvEqzw0PKtnNIOa30KhfY3I0WZEfemIGaXv79wwhGTQkAD86QSZLXoeuU3aqyPf8DVa5tpvuGWnRStyQAAABEAZ/0dEf/AAAgvxvhOJDlY6AEsNl1yyLywVLlyShFjiHqLk7DyONlz1AvvUmfuINUyx74HqfCZCa+TzC+neK1VuDXuOAAAABBAZ/2akf/AAAgvLm7dQTXdQ2U1fnViPVje7Z/fadfClPKkJUEyxdfDgTaIo/4MYBteSJJgHmXWsO28o7i1j8t/JkAAABRQZv5SahBbJlMFEwv//6MsAAAPlyAZT4+oClS+02IZJThDDwwrwZQrauA4bA7Fy3xaFLL5u8m+7qJpGeVBXbIKXTaQIl5c0NdoeCppsDGdRtHAAAANgGeGGpH/wAAH622EaMpYD0r0JLcBKpZ6E25ravbYjQr2bbSM6F8QzxuS3gHwt4P6bLTe9puOQAAAjxliIIAD//+92ifAptaQ3qA5JXFJdtPgf+rZ3B8j+kDAAADAAADAAAVt6RlhkJ0L/JiAAAFfACyBdhEhIBSxvCoEsQb2M/uGnLgeC3QM4xuF/0uzyaJz1gfAfCrHgYbC55Cmt48ldIoLk87fNmBaSPtFS68RqY06ThEM5Q7sqinM0Kvd8ued8jIgvFoJCkKSeBun0X1kJH6p2s4Kim62T/6uDxOru6Bhve5js6EMZK/qdw6kR1nR6//v1cB98M6e3djdC57vMe9H6SH2Tm72CYXUEBwYRQkfEJCIdsJEt552j85aj0nLcRpB0n9Yu1o/GbeubfIJ+OjWD35MZjLjp8I3ItiH0CVIncY6AbfwGsL3fsB8v37+wLXHzOaqDuB6eZS8Kp23EQoLh9Y3yRhdlEFXJiekzmfyOsm0htIQ0mugu4cf+0s72VYXPVrYqer5sh1v3PplG/G2aVcnvNvG9t7i/xk+LnH4QPA5xAs0JsuE4dJlzK82YXSUngFm/7K7d+b32xFgRgcFRcMlNSFopa8HFjW1/sneHWVuomHnEN5c2BeO7T47FFn9iTJ57vuchnQZpddJ/nSmQLATZmYL3vxQwaykkFgtSxGbLetp6bLAK+1OydPgkR4yUvLBjIsMHTg1wn8DH0wRNbBadD/zDTqltevVubTX8+4N/gBARRoFKAm6HipJ+PjbYveir1aE/Lwr9SEd1Q/o9gE91MKkdwzx3u97bjwWykbvYlwTpIEaggYQwAAAwAAAwAW8AAAAItBmiRsQz/+nhAAABpxdMpgB7+pr8kie+YTREwWOKoic4GEc78uNnkb4UM9GeP6Ed0ptBF47YQzUAXlk0P+YVw1Hdmnx2cVRpdOeC9m5Xaow2fHrgat1leFGdEPCOpe3Pw+cNAG5yCH0RlV3xVfSvAi/r6drsoqv/BmiWn2y0AcOz97mS6nyl6J6188AAAAOUGeQniEfwAAFrzxBocDf+eAR0M/lJhfV5SYDZpVKFeqGlvHP1wQHg8WTO+qd1ut0rVZQohzq2rbgQAAACYBnmF0R/8AACOsOQVxPuR7+dobwy1wm0HMm13ihxY807sINl3qDAAAACgBnmNqR/8AACOyLHK4bkv+dPk5XeXkK+FVvT/BUE8MdkQn7nuQcbYmAAAAiUGaaEmoQWiZTAhn//6eEAAARW1oteACMgi6Ll5o/m8G9mEqd/KndX0FrxwNjJqbEl0WI4Dfkbh464t5bjESrwL8P/7wDKDtIdMLaj/HrYfSS68KbUvK/hdmzCNcVjqA3e0piXXW12kI9c+7xtEP+385VYRYRTQnxreN3I9HnwiMUfar5/mP9SOBAAAAH0GehkURLCP/AAAXTD6z+i3OiYegpC72ZPATZ6k2EBAAAAAgAZ6ldEf/AAAjrDkFq/H1jRPx8j1Os8OcqNepizstbMEAAAAQAZ6nakf/AAAkvxrOpgAsoQAAAHlBmqxJqEFsmUwIZ//+nhAAAEe6bzxRV86Rb/xPujCYP8nGgBup/H7QZ68JHP7Cs+uqgsk9wtpCqDhNnAzaBC/EKrTP8cS6AlqVgxExLS+awhfaDmyypXf78cNDARNr93IPyBNtDSK+p4JThX4MIRJDPFPZYia6QgpwAAAASkGeykUVLCP/AAAXRT9jyDcf6OsPhbUcC9M1HS+iPeRMrNT1j4r/oUUvSrjn8Ivm1o26Bl5QAftjIrn4EePSPJ4gjC9HJxq052zBAAAAJQGe6XRH/wAAJKv4W3gfhp3QzamCxgI+WULKeazklW4xOhL6tmAAAAAuAZ7rakf/AAAjsixfsTnGYW1Tf9+BOK16Nb6qwb4Kvy6Dhisfd00wcn6Bk9HbgQAAAE1BmvBJqEFsmUwIX//+jLAAAEYUcNH/pe2DuG0pgAKtnkIoNxKmi840YvQ1qcPi8RG1+gJtczfG64XO7k47tyQuKwmztEMlVPwkwuxZcQAAADdBnw5FFSwj/wAAFsCfTMIRJLlDAl6E7qVUji4YPz2goBu49CxWREcHykbT8tMau4zC1pHYBq2zAAAAOAGfLXRH/wAAI8M+lIBC6GkgYHJVUaB6oN/C23iD0vs+tqCSYFnsLb4AJHoc5o+Xe0WwSrU7Vp2zAAAALQGfL2pH/wAAI7ItOB4wdBKUSO8iIfermHpLU6EYNbF2met8197u8NLuidUPZwAAAOtBmzRJqEFsmUwIX//+jLAAAEgA9ST6TFtAFamCBDUWZWcV9JO+dt8ixbziPAODWAs8MmHox8JjRlE61P9teH4A8yUGUoYlDyvq3R+6tTyV40Eckj4jLk2WBvpHpaz4RC9M+adHvYzLzgCspNGlqmUHxLWzv6muoYZxx8V2evE85iy6Olw+VEssF13RpUhIENgwHeR/PAV1vLzXFq5NeNhhSJNgtlHjviC9XgP9Mhk9iDFl2FsDWmkEoUymu+PrrEvHp2iVORofFP+65VIHDFU0laao2601HjgGPaIambv5DxnJN6U1VdOHq6BYAAAAS0GfUkUVLCP/AAAXTEMWqNVqOOzaA/GSKNG5tkhP4htCrQ7pK/oT60qILOOFm8Wfp7DlTD3xKGmHzSDC4vLAA1AHSOhOj5hWf5MTtwAAADEBn3F0R/8AACOsNs6jegXCu3lkeDrP6P13UpZbNCG/ei7s0mZCc0EQUxItJTwhV7bgAAAAPAGfc2pH/wAAJL8CZIyfRXtZJedVEvtdYW0lW6jmKaxb7ICrSDc/riUw7Dz8j5bJY7NQAlDeyw6DZsnf4QAAAHBBm3dJqEFsmUwIX//+jLAAAEgQkUk9iobwOBk3wpkfKprBqIayzsLPkIpHVFoS2PGTiWmuMvIsYGHHeA7QgDgh2AOc3++ESGghPOWzbLWkJVSSu8KcDcp2wTfP3nuziLL1UwXpSIWXab/i7IYNK4QnAAAALUGflUUVLCP/AAAXQ0f7cWC2O5eumZNDIy2HNJxOEZbs7EDpWbEdDzW+UDpTQQAAABgBn7ZqR/8AACS/BCcSyWmtU5McOk+UG1EAAABWQZu7SahBbJlMCF///oywAABIAOyzXdyOXXczBbxli8tDdtAFlfdnd9wdMTY9u7opdVa3uJMUceYNtobbqZ3nrHiIMOtHRhOFstF1wRlZ57V6iz3yaYAAAAAuQZ/ZRRUsI/8AABdCq+TCVxSEDzCLH+oEyZlTmQb3bA9cE/ppTz3m0pL6WzvbcAAAACkBn/h0R/8AACTC8H73yfk2OUh4mKdZukkxYTn4W3dCjR7QhSuyDdMduQAAACsBn/pqR/8AACS9g4Na312+NgS/WdqWB4vIVjeCR/fgafQfdD9zhFnOGN+qAAAAQ0Gb/UmoQWyZTBRML//+jLAAAEgQeyvkPWzhwiJdCnQOvkLXQ+zD7hdVtpTCWM02FhoHZawg4NOI+MfJT8vuRmQXyMAAAAA1AZ4cakf/AAAkvvU+C7yDewYPdDKc+zZdfvhsL9RwUej6d9oMUYfZQvSAATXDO70eJfY85IEAAABzQZoBSeEKUmUwIV/+OEAAARWRWZTRtCS7yqwRE8UKg0/c3881ico0zw3ZxVSJpQDr6d5M7UEiR6+bdSv9WbCv3/xocTjosHL0nyw7lSiAAm7vzx2vVbUqpcTdjXHuslBjoOqFMWEtzvQcpvApL90eiXtgYQAAADtBnj9FNEwj/wAAF1A25GIhf+nWcgBbbSl00dsVBWRLnt1LM16H/g3h/8/1WNcFIn37WC0IPPWA8B8O3QAAADgBnl50R/8AACSp6lX9s9Zqi6DtMgrVSdCUceDAkFs7ECcWVB8IPpuOtB12OUwIAJlea53ZRthLtwAAAD8BnkBqR/8AACRDuiJ7oygDLNy8jlukyXZ7j0lUqWJfThsbZLqdrZug9HjMYCUGMxZ+JzwYALIQhviqfoBOy24AAACrQZpESahBaJlMCP/8hAAAEG9ajj2Ny8mOwAzuKTZePQFvR1sTwd068z+oclBoaQ1N65UAfmvvI2fN4R6WYYVHaOVLioRDB1eYjzl8zetyA7QoGNdhqIjLagxhZul/3gnsNab8GOiHoNdFS5I3HVCPLhv/lkkjjtGu2krH1wF/nlBom7KHyaaIgtiTnd5buaa7uXKgUV4m1ekXk75uk/7X86koJZCna8TzUfO5AAAAQ0GeYkURLCP/AAAXS1twvIMO0SOuYPtBYFuh7XiXSfOri96HEuP/pf1vYFdJ2uIdOiUu6DfZ92T+vAA2e8vIw0dGNswAAAApAZ6Dakf/AAAknhE5GoAixRLhYpiuB7g7qRVhJBz0JuvYE9HprdrzZJgAABoDbW9vdgAAAGxtdmhkAAAAAAAAAAAAAAAAAAAD6AAAJyQAAQAAAQAAAAAAAAAAAAAAAAEAAAAAAAAAAAAAAAAAAAABAAAAAAAAAAAAAAAAAABAAAAAAAAAAAAAAAAAAAAAAAAAAAAAAAAAAAAAAAAAAgAAGS10cmFrAAAAXHRraGQAAAADAAAAAAAAAAAAAAABAAAAAAAAJyQAAAAAAAAAAAAAAAAAAAAAAAEAAAAAAAAAAAAAAAAAAAABAAAAAAAAAAAAAAAAAABAAAAAAlgAAAGQAAAAAAAkZWR0cwAAABxlbHN0AAAAAAAAAAEAACckAAACAAABAAAAABilbWRpYQAAACBtZGhkAAAAAAAAAAAAAAAAAAAyAAAB9QBVxAAAAAAALWhkbHIAAAAAAAAAAHZpZGUAAAAAAAAAAAAAAABWaWRlb0hhbmRsZXIAAAAYUG1pbmYAAAAUdm1oZAAAAAEAAAAAAAAAAAAAACRkaW5mAAAAHGRyZWYAAAAAAAAAAQAAAAx1cmwgAAAAAQAAGBBzdGJsAAAAmHN0c2QAAAAAAAAAAQAAAIhhdmMxAAAAAAAAAAEAAAAAAAAAAAAAAAAAAAAAAlgBkABIAAAASAAAAAAAAAABAAAAAAAAAAAAAAAAAAAAAAAAAAAAAAAAAAAAAAAAAAAAGP//AAAAMmF2Y0MBZAAf/+EAGWdkAB+s2UCYM+XhAAADAAEAAAMAZA8YMZYBAAZo6+PLIsAAAAAYc3R0cwAAAAAAAAABAAAB9QAAAQAAAAAgc3RzcwAAAAAAAAAEAAAAAQAAAPsAAAFXAAAB0QAADyBjdHRzAAAAAAAAAeIAAAABAAACAAAAAAEAAAQAAAAAAgAAAQAAAAABAAAFAAAAAAEAAAIAAAAAAQAAAAAAAAABAAABAAAAAAEAAAUAAAAAAQAAAgAAAAABAAAAAAAAAAEAAAEAAAAAAQAABQAAAAABAAACAAAAAAEAAAAAAAAAAQAAAQAAAAABAAAFAAAAAAEAAAIAAAAAAQAAAAAAAAABAAABAAAAAAEAAAUAAAAAAQAAAgAAAAABAAAAAAAAAAEAAAEAAAAAAQAABQAAAAABAAACAAAAAAEAAAAAAAAAAQAAAQAAAAABAAAEAAAAAAIAAAEAAAAAAQAABAAAAAACAAABAAAAAAEAAAQAAAAAAgAAAQAAAAABAAAFAAAAAAEAAAIAAAAAAQAAAAAAAAABAAABAAAAAAEAAAUAAAAAAQAAAgAAAAABAAAAAAAAAAEAAAEAAAAAAQAABQAAAAABAAACAAAAAAEAAAAAAAAAAQAAAQAAAAABAAAFAAAAAAEAAAIAAAAAAQAAAAAAAAABAAABAAAAAAEAAAUAAAAAAQAAAgAAAAABAAAAAAAAAAEAAAEAAAAAAQAABQAAAAABAAACAAAAAAEAAAAAAAAAAQAAAQAAAAABAAAEAAAAAAIAAAEAAAAAAQAABQAAAAABAAACAAAAAAEAAAAAAAAAAQAAAQAAAAABAAAFAAAAAAEAAAIAAAAAAQAAAAAAAAABAAABAAAAAAEAAAMAAAAAAQAAAQAAAAABAAADAAAAAAEAAAEAAAAAAQAABAAAAAACAAABAAAAAAEAAAUAAAAAAQAAAgAAAAABAAAAAAAAAAEAAAEAAAAAAQAABQAAAAABAAACAAAAAAEAAAAAAAAAAQAAAQAAAAABAAAFAAAAAAEAAAIAAAAAAQAAAAAAAAABAAABAAAAAAEAAAUAAAAAAQAAAgAAAAABAAAAAAAAAAEAAAEAAAAAAQAABAAAAAACAAABAAAAAAEAAAUAAAAAAQAAAgAAAAABAAAAAAAAAAEAAAEAAAAAAQAABQAAAAABAAACAAAAAAEAAAAAAAAAAQAAAQAAAAABAAAFAAAAAAEAAAIAAAAAAQAAAAAAAAABAAABAAAAAAEAAAUAAAAAAQAAAgAAAAABAAAAAAAAAAEAAAEAAAAAAQAABQAAAAABAAACAAAAAAEAAAAAAAAAAQAAAQAAAAABAAAFAAAAAAEAAAIAAAAAAQAAAAAAAAABAAABAAAAAAEAAAIAAAAAAQAABQAAAAABAAACAAAAAAEAAAAAAAAAAQAAAQAAAAABAAACAAAAAAEAAAUAAAAAAQAAAgAAAAABAAAAAAAAAAEAAAEAAAAAAQAABQAAAAABAAACAAAAAAEAAAAAAAAAAQAAAQAAAAABAAAFAAAAAAEAAAIAAAAAAQAAAAAAAAABAAABAAAAAAEAAAUAAAAAAQAAAgAAAAABAAAAAAAAAAEAAAEAAAAAAQAAAwAAAAABAAABAAAAAAEAAAUAAAAAAQAAAgAAAAABAAAAAAAAAAEAAAEAAAAAAQAABQAAAAABAAACAAAAAAEAAAAAAAAAAQAAAQAAAAABAAAFAAAAAAEAAAIAAAAAAQAAAAAAAAABAAABAAAAAAEAAAUAAAAAAQAAAgAAAAABAAAAAAAAAAEAAAEAAAAAAQAABQAAAAABAAACAAAAAAEAAAAAAAAAAQAAAQAAAAABAAADAAAAAAEAAAEAAAAAAQAABQAAAAABAAACAAAAAAEAAAAAAAAAAQAAAQAAAAABAAAFAAAAAAEAAAIAAAAAAQAAAAAAAAABAAABAAAAAAEAAAMAAAAAAQAAAQAAAAABAAAFAAAAAAEAAAIAAAAAAQAAAAAAAAABAAABAAAAAAEAAAUAAAAAAQAAAgAAAAABAAAAAAAAAAEAAAEAAAAAAQAABAAAAAACAAABAAAAAAEAAAMAAAAAAQAAAQAAAAABAAAFAAAAAAEAAAIAAAAAAQAAAAAAAAABAAABAAAAAAEAAAQAAAAAAgAAAQAAAAABAAAFAAAAAAEAAAIAAAAAAQAAAAAAAAABAAABAAAAAAEAAAUAAAAAAQAAAgAAAAABAAAAAAAAAAEAAAEAAAAAAQAABQAAAAABAAACAAAAAAEAAAAAAAAAAQAAAQAAAAABAAAFAAAAAAEAAAIAAAAAAQAAAAAAAAABAAABAAAAAAEAAAUAAAAAAQAAAgAAAAABAAAAAAAAAAEAAAEAAAAAAQAAAwAAAAABAAABAAAAAAEAAAUAAAAAAQAAAgAAAAABAAAAAAAAAAEAAAEAAAAAAQAABQAAAAABAAACAAAAAAEAAAAAAAAAAQAAAQAAAAABAAAFAAAAAAEAAAIAAAAAAQAAAAAAAAABAAABAAAAAAEAAAUAAAAAAQAAAgAAAAABAAAAAAAAAAEAAAEAAAAAAQAABQAAAAABAAACAAAAAAEAAAAAAAAAAQAAAQAAAAABAAAFAAAAAAEAAAIAAAAAAQAAAAAAAAABAAABAAAAAAEAAAUAAAAAAQAAAgAAAAABAAAAAAAAAAEAAAEAAAAAAQAAAwAAAAABAAABAAAAAAEAAAIAAAAAAQAABQAAAAABAAACAAAAAAEAAAAAAAAAAQAAAQAAAAABAAAFAAAAAAEAAAIAAAAAAQAAAAAAAAABAAABAAAAAAEAAAUAAAAAAQAAAgAAAAABAAAAAAAAAAEAAAEAAAAAAQAABQAAAAABAAACAAAAAAEAAAAAAAAAAQAAAQAAAAABAAAFAAAAAAEAAAIAAAAAAQAAAAAAAAABAAABAAAAAAEAAAUAAAAAAQAAAgAAAAABAAAAAAAAAAEAAAEAAAAAAQAABQAAAAABAAACAAAAAAEAAAAAAAAAAQAAAQAAAAABAAAFAAAAAAEAAAIAAAAAAQAAAAAAAAABAAABAAAAAAEAAAUAAAAAAQAAAgAAAAABAAAAAAAAAAEAAAEAAAAAAQAABQAAAAABAAACAAAAAAEAAAAAAAAAAQAAAQAAAAABAAADAAAAAAEAAAEAAAAAAQAABQAAAAABAAACAAAAAAEAAAAAAAAAAQAAAQAAAAABAAAFAAAAAAEAAAIAAAAAAQAAAAAAAAABAAABAAAAAAEAAAQAAAAAAgAAAQAAAAABAAAFAAAAAAEAAAIAAAAAAQAAAAAAAAABAAABAAAAAAEAAAUAAAAAAQAAAgAAAAABAAAAAAAAAAEAAAEAAAAAAQAABQAAAAABAAACAAAAAAEAAAAAAAAAAQAAAQAAAAABAAACAAAAAAEAAAUAAAAAAQAAAgAAAAABAAAAAAAAAAEAAAEAAAAAAQAABAAAAAACAAABAAAAAAEAAAUAAAAAAQAAAgAAAAABAAAAAAAAAAEAAAEAAAAAAQAABQAAAAABAAACAAAAAAEAAAAAAAAAAQAAAQAAAAABAAAFAAAAAAEAAAIAAAAAAQAAAAAAAAABAAABAAAAAAEAAAQAAAAAAgAAAQAAAAABAAAEAAAAAAIAAAEAAAAAAQAAAgAAAAABAAAFAAAAAAEAAAIAAAAAAQAAAAAAAAABAAABAAAAAAEAAAUAAAAAAQAAAgAAAAABAAAAAAAAAAEAAAEAAAAAAQAABAAAAAACAAABAAAAAAEAAAMAAAAAAQAAAQAAAAABAAAFAAAAAAEAAAIAAAAAAQAAAAAAAAABAAABAAAAAAEAAAUAAAAAAQAAAgAAAAABAAAAAAAAAAEAAAEAAAAAAQAABAAAAAACAAABAAAAAAEAAAUAAAAAAQAAAgAAAAABAAAAAAAAAAEAAAEAAAAAAQAABQAAAAABAAACAAAAAAEAAAAAAAAAAQAAAQAAAAABAAAFAAAAAAEAAAIAAAAAAQAAAAAAAAABAAABAAAAAAEAAAUAAAAAAQAAAgAAAAABAAAAAAAAAAEAAAEAAAAAAQAABQAAAAABAAACAAAAAAEAAAAAAAAAAQAAAQAAAAABAAAFAAAAAAEAAAIAAAAAAQAAAAAAAAABAAABAAAAAAEAAAUAAAAAAQAAAgAAAAABAAAAAAAAAAEAAAEAAAAAAQAAAgAAAAABAAAEAAAAAAIAAAEAAAAAAQAABQAAAAABAAACAAAAAAEAAAAAAAAAAQAAAQAAAAABAAAEAAAAAAIAAAEAAAAAAQAABQAAAAABAAACAAAAAAEAAAAAAAAAAQAAAQAAAAABAAAFAAAAAAEAAAIAAAAAAQAAAAAAAAABAAABAAAAAAEAAAUAAAAAAQAAAgAAAAABAAAAAAAAAAEAAAEAAAAAAQAABQAAAAABAAACAAAAAAEAAAAAAAAAAQAAAQAAAAABAAAFAAAAAAEAAAIAAAAAAQAAAAAAAAABAAABAAAAAAEAAAUAAAAAAQAAAgAAAAABAAAAAAAAAAEAAAEAAAAAAQAABQAAAAABAAACAAAAAAEAAAAAAAAAAQAAAQAAAAABAAAFAAAAAAEAAAIAAAAAAQAAAAAAAAABAAABAAAAAAEAAAUAAAAAAQAAAgAAAAABAAAAAAAAAAEAAAEAAAAAAQAAAwAAAAABAAABAAAAAAEAAAUAAAAAAQAAAgAAAAABAAAAAAAAAAEAAAEAAAAAAQAAAwAAAAABAAABAAAAAAEAAAMAAAAAAQAAAQAAAAABAAADAAAAAAEAAAEAAAAAAQAABQAAAAABAAACAAAAAAEAAAAAAAAAAQAAAQAAAAABAAAFAAAAAAEAAAIAAAAAAQAAAAAAAAABAAABAAAAAAEAAAMAAAAAAQAAAQAAAAABAAACAAAAAAEAAAUAAAAAAQAAAgAAAAABAAAAAAAAAAEAAAEAAAAAAQAABQAAAAABAAACAAAAAAEAAAAAAAAAAQAAAQAAAAABAAAFAAAAAAEAAAIAAAAAAQAAAAAAAAABAAABAAAAAAEAAAUAAAAAAQAAAgAAAAABAAAAAAAAAAEAAAEAAAAAAQAABQAAAAABAAACAAAAAAEAAAAAAAAAAQAAAQAAAAABAAAEAAAAAAIAAAEAAAAAAQAABQAAAAABAAACAAAAAAEAAAAAAAAAAQAAAQAAAAABAAADAAAAAAEAAAEAAAAAAQAABQAAAAABAAACAAAAAAEAAAAAAAAAAQAAAQAAAAABAAAEAAAAAAIAAAEAAAAAHHN0c2MAAAAAAAAAAQAAAAEAAAH1AAAAAQAAB+hzdHN6AAAAAAAAAAAAAAH1AAAEmwAAAE4AAAApAAAAJgAAAGMAAAA1AAAAHQAAACUAAACZAAAAQQAAAEAAAAAkAAAARgAAAEcAAAA4AAAALQAAAF4AAAAsAAAAKQAAACEAAABOAAAAKQAAABoAAAAeAAAAigAAACUAAAASAAAALgAAANsAAAA8AAAARQAAAMgAAABPAAAATgAAAL8AAABjAAAASAAAAFUAAABBAAAAJgAAACMAAACIAAAANgAAACAAAAAoAAAAXwAAAEIAAAAiAAAALwAAAIkAAAA/AAAAIAAAACYAAABGAAAANwAAADYAAAAhAAAATQAAADsAAAAhAAAAKAAAAIIAAAAtAAAAMAAAAK4AAABFAAAAOQAAACUAAACxAAAAOAAAACAAAAA3AAAAVAAAACEAAABYAAAALAAAAJoAAABFAAAANwAAAM8AAABnAAAAOgAAAEkAAACqAAAALwAAAFwAAAAUAAAAfAAAAEcAAAA+AAAAJgAAAFAAAAAiAAAAIQAAABQAAABfAAAAKAAAACwAAAB/AAAAQAAAADEAAAAgAAAAVgAAAD0AAAA0AAAAPAAAAOwAAABNAAAALQAAAEYAAACoAAAAqAAAAFYAAABUAAAAjwAAAC8AAAAeAAAAHgAAACkAAAAYAAAAFAAAABIAAABeAAAAvwAAAFoAAAA6AAAAUQAAAKEAAADlAAAAPAAAAFQAAAAiAAAAkwAAAEcAAAAzAAAAIwAAAGoAAAAvAAAAIgAAADYAAACNAAAALwAAAB0AAAA1AAAAUAAAAC0AAABbAAAARQAAACgAAAAsAAAAawAAADEAAAAlAAAAKwAAAF8AAABAAAAAKwAAAEkAAACpAAAAWgAAADYAAAAuAAAAxgAAAGQAAABGAAAARQAAAK0AAABjAAAAjgAAAD0AAAApAAAAKQAAAMcAAABWAAAALAAAADkAAABkAAAAJwAAAEgAAABJAAAAJQAAAB4AAABzAAAAMwAAAC8AAAAvAAAAagAAADIAAAA5AAAAWgAAACsAAACiAAAARQAAADQAAAAqAAAAygAAAEQAAAA4AAAA0QAAAFQAAABFAAAAOQAAAJwAAABjAAAARAAAADoAAAEQAAAAhQAAACgAAABAAAAAmgAAAEEAAABAAAAAIAAAAMUAAAA+AAAAJwAAAD0AAAC5AAAAQgAAAIUAAACCAAAAXgAAACMAAABuAAAAJQAAABQAAAAfAAAAUQAAACYAAAAfAAAAGwAAAEAAAAAiAAAAHAAAACoAAABfAAAAKgAAAB8AAAAkAAAAmQAAAEgAAAAfAAAANAAAANwAAABdAAAAOQAAAFIAAABjAAAAOgAAAW0AAABuAAAAJAAAABYAAAAsAAAAUwAAACMAAAAdAAAAFgAAAG8AAAAqAAAAIwAAAB4AAABEAAAAIgAAABQAAAAzAAAAXQAAADUAAAAfAAAAIwAAAJAAAAA1AAAALgAAADYAAADDAAAAZwAAADQAAAA8AAAAywAAAGUAAABAAAAATwAAAMkAAAA9AAAAQwAAAB8AAACOAAAALQAAACIAAAApAAAAyAAAAEMAAAEHAAAAbAAAAE0AAABBAAAAggAAAEYAAAA0AAAAMQAAANoAAAArAAAAKQAAAHQAAAArAAAAFwAAACAAAAC0AAAASAAAADQAAAAnAAAAWAAAADAAAAAgAAAAGgAAAEEAAACNAAAAJQAAADgAAAAXAAAATAAAADwAAAAfAAAAaQAAAC8AAAAcAAAAJQAAAIEAAABDAAAANAAAACkAAAC4AAAAWQAAADYAAAA5AAAA0QAAAFUAAABBAAAAfAAAAFkAAABAAAACUQAAAJYAAAAzAAAAHwAAACAAAACBAAAALAAAABoAAAAiAAAAgAAAACcAAAA6AAAAuAAAAEwAAACsAAAAeAAAAFsAAAAkAAAA0AAAADoAAAAvAAAAMAAAAHUAAAArAAAAIQAAAIgAAAA8AAAAIgAAACIAAABuAAAANAAAADQAAAAuAAAAlQAAAD8AAAAjAAAAMgAAAFQAAABLAAAALAAAADoAAACrAAAATAAAADEAAAA/AAAAQQAAACoAAAA+AAAAJwAAAJkAAABGAAAALQAAADMAAAA/AAAAdQAAAD4AAAA1AAAAmAAAAHAAAABJAAAATgAAAPAAAAAoAAAAFwAAANYAAABeAAAASQAAADwAAADmAAAAfgAAADoAAABQAAAA2wAAADUAAAAfAAAANwAAAIYAAAA0AAAAIQAAADUAAACsAAAARwAAACwAAAA5AAAAUgAAAEIAAAAsAAAAKgAAAIwAAABEAAAAKAAAADQAAABzAAAAPwAAACcAAAAuAAAAiQAAAEEAAABBAAAAQAAAAHwAAAA7AAAAPgAAAD8AAAA+AAAAPgAAADcAAAA2AAAAPQAAADUAAAB5AAAAQQAAAFgAAABEAAAAQgAAADEAAACmAAAAagAAAEgAAABFAAAAVQAAADoAAAJAAAAAjwAAAD0AAAAqAAAALAAAAI0AAAAjAAAAJAAAABQAAAB9AAAATgAAACkAAAAyAAAAUQAAADsAAAA8AAAAMQAAAO8AAABPAAAANQAAAEAAAAB0AAAAMQAAABwAAABaAAAAMgAAAC0AAAAvAAAARwAAADkAAAB3AAAAPwAAADwAAABDAAAArwAAAEcAAAAtAAAAFHN0Y28AAAAAAAAAAQAAADAAAABidWR0YQAAAFptZXRhAAAAAAAAACFoZGxyAAAAAAAAAABtZGlyYXBwbAAAAAAAAAAAAAAAAC1pbHN0AAAAJal0b28AAAAdZGF0YQAAAAEAAAAATGF2ZjU4LjI5LjEwMA==\" type=\"video/mp4\" />\n",
              "                </video>"
            ]
          },
          "metadata": {}
        }
      ]
    },
    {
      "cell_type": "markdown",
      "metadata": {
        "id": "FrI6f5fWnzp-"
      },
      "source": [
        "## Conclusion\n",
        "\n",
        "In this notebook we have seen:\n",
        "- how to define and train a RL model using stable baselines3, it takes only one line of code ;)"
      ]
    },
    {
      "cell_type": "code",
      "execution_count": null,
      "metadata": {
        "id": "73ji3gbNDkf7"
      },
      "outputs": [],
      "source": []
    }
  ],
  "metadata": {
    "accelerator": "GPU",
    "colab": {
      "name": "1_getting_started.ipynb",
      "provenance": [],
      "include_colab_link": true
    },
    "kernelspec": {
      "display_name": "Python 3 (ipykernel)",
      "language": "python",
      "name": "python3"
    },
    "language_info": {
      "codemirror_mode": {
        "name": "ipython",
        "version": 3
      },
      "file_extension": ".py",
      "mimetype": "text/x-python",
      "name": "python",
      "nbconvert_exporter": "python",
      "pygments_lexer": "ipython3",
      "version": "3.10.9"
    }
  },
  "nbformat": 4,
  "nbformat_minor": 0
}